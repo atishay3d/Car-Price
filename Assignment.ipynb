{
 "cells": [
  {
   "cell_type": "markdown",
   "metadata": {},
   "source": [
    "##  Reading and Understanding the Data"
   ]
  },
  {
   "cell_type": "code",
   "execution_count": 777,
   "metadata": {},
   "outputs": [],
   "source": [
    "import numpy as np\n",
    "import pandas as pd"
   ]
  },
  {
   "cell_type": "code",
   "execution_count": 778,
   "metadata": {},
   "outputs": [],
   "source": [
    "# Supress Warnings\n",
    "import warnings\n",
    "warnings.filterwarnings('ignore')"
   ]
  },
  {
   "cell_type": "code",
   "execution_count": 779,
   "metadata": {},
   "outputs": [],
   "source": [
    "car_info = pd.read_csv('CarPrice_Assignment.csv') # Importing the csv file data into DataFrame name car_info using pandas"
   ]
  },
  {
   "cell_type": "code",
   "execution_count": 780,
   "metadata": {},
   "outputs": [
    {
     "data": {
      "text/plain": [
       "(205, 26)"
      ]
     },
     "execution_count": 780,
     "metadata": {},
     "output_type": "execute_result"
    }
   ],
   "source": [
    "car_info.shape #Shape of the car_info (205 Rows, 26 Columns)"
   ]
  },
  {
   "cell_type": "code",
   "execution_count": 781,
   "metadata": {},
   "outputs": [
    {
     "data": {
      "text/html": [
       "<div>\n",
       "<style scoped>\n",
       "    .dataframe tbody tr th:only-of-type {\n",
       "        vertical-align: middle;\n",
       "    }\n",
       "\n",
       "    .dataframe tbody tr th {\n",
       "        vertical-align: top;\n",
       "    }\n",
       "\n",
       "    .dataframe thead th {\n",
       "        text-align: right;\n",
       "    }\n",
       "</style>\n",
       "<table border=\"1\" class=\"dataframe\">\n",
       "  <thead>\n",
       "    <tr style=\"text-align: right;\">\n",
       "      <th></th>\n",
       "      <th>car_ID</th>\n",
       "      <th>symboling</th>\n",
       "      <th>CarName</th>\n",
       "      <th>fueltype</th>\n",
       "      <th>aspiration</th>\n",
       "      <th>doornumber</th>\n",
       "      <th>carbody</th>\n",
       "      <th>drivewheel</th>\n",
       "      <th>enginelocation</th>\n",
       "      <th>wheelbase</th>\n",
       "      <th>...</th>\n",
       "      <th>enginesize</th>\n",
       "      <th>fuelsystem</th>\n",
       "      <th>boreratio</th>\n",
       "      <th>stroke</th>\n",
       "      <th>compressionratio</th>\n",
       "      <th>horsepower</th>\n",
       "      <th>peakrpm</th>\n",
       "      <th>citympg</th>\n",
       "      <th>highwaympg</th>\n",
       "      <th>price</th>\n",
       "    </tr>\n",
       "  </thead>\n",
       "  <tbody>\n",
       "    <tr>\n",
       "      <th>0</th>\n",
       "      <td>1</td>\n",
       "      <td>3</td>\n",
       "      <td>alfa-romero giulia</td>\n",
       "      <td>gas</td>\n",
       "      <td>std</td>\n",
       "      <td>two</td>\n",
       "      <td>convertible</td>\n",
       "      <td>rwd</td>\n",
       "      <td>front</td>\n",
       "      <td>88.6</td>\n",
       "      <td>...</td>\n",
       "      <td>130</td>\n",
       "      <td>mpfi</td>\n",
       "      <td>3.47</td>\n",
       "      <td>2.68</td>\n",
       "      <td>9.0</td>\n",
       "      <td>111</td>\n",
       "      <td>5000</td>\n",
       "      <td>21</td>\n",
       "      <td>27</td>\n",
       "      <td>13495.0</td>\n",
       "    </tr>\n",
       "    <tr>\n",
       "      <th>1</th>\n",
       "      <td>2</td>\n",
       "      <td>3</td>\n",
       "      <td>alfa-romero stelvio</td>\n",
       "      <td>gas</td>\n",
       "      <td>std</td>\n",
       "      <td>two</td>\n",
       "      <td>convertible</td>\n",
       "      <td>rwd</td>\n",
       "      <td>front</td>\n",
       "      <td>88.6</td>\n",
       "      <td>...</td>\n",
       "      <td>130</td>\n",
       "      <td>mpfi</td>\n",
       "      <td>3.47</td>\n",
       "      <td>2.68</td>\n",
       "      <td>9.0</td>\n",
       "      <td>111</td>\n",
       "      <td>5000</td>\n",
       "      <td>21</td>\n",
       "      <td>27</td>\n",
       "      <td>16500.0</td>\n",
       "    </tr>\n",
       "    <tr>\n",
       "      <th>2</th>\n",
       "      <td>3</td>\n",
       "      <td>1</td>\n",
       "      <td>alfa-romero Quadrifoglio</td>\n",
       "      <td>gas</td>\n",
       "      <td>std</td>\n",
       "      <td>two</td>\n",
       "      <td>hatchback</td>\n",
       "      <td>rwd</td>\n",
       "      <td>front</td>\n",
       "      <td>94.5</td>\n",
       "      <td>...</td>\n",
       "      <td>152</td>\n",
       "      <td>mpfi</td>\n",
       "      <td>2.68</td>\n",
       "      <td>3.47</td>\n",
       "      <td>9.0</td>\n",
       "      <td>154</td>\n",
       "      <td>5000</td>\n",
       "      <td>19</td>\n",
       "      <td>26</td>\n",
       "      <td>16500.0</td>\n",
       "    </tr>\n",
       "  </tbody>\n",
       "</table>\n",
       "<p>3 rows × 26 columns</p>\n",
       "</div>"
      ],
      "text/plain": [
       "   car_ID  symboling                   CarName fueltype aspiration doornumber  \\\n",
       "0       1          3        alfa-romero giulia      gas        std        two   \n",
       "1       2          3       alfa-romero stelvio      gas        std        two   \n",
       "2       3          1  alfa-romero Quadrifoglio      gas        std        two   \n",
       "\n",
       "       carbody drivewheel enginelocation  wheelbase  ...  enginesize  \\\n",
       "0  convertible        rwd          front       88.6  ...         130   \n",
       "1  convertible        rwd          front       88.6  ...         130   \n",
       "2    hatchback        rwd          front       94.5  ...         152   \n",
       "\n",
       "   fuelsystem  boreratio  stroke compressionratio horsepower  peakrpm citympg  \\\n",
       "0        mpfi       3.47    2.68              9.0        111     5000      21   \n",
       "1        mpfi       3.47    2.68              9.0        111     5000      21   \n",
       "2        mpfi       2.68    3.47              9.0        154     5000      19   \n",
       "\n",
       "   highwaympg    price  \n",
       "0          27  13495.0  \n",
       "1          27  16500.0  \n",
       "2          26  16500.0  \n",
       "\n",
       "[3 rows x 26 columns]"
      ]
     },
     "execution_count": 781,
     "metadata": {},
     "output_type": "execute_result"
    }
   ],
   "source": [
    "car_info.head(3) # see what kind of data we are having"
   ]
  },
  {
   "cell_type": "code",
   "execution_count": 782,
   "metadata": {},
   "outputs": [
    {
     "name": "stdout",
     "output_type": "stream",
     "text": [
      "<class 'pandas.core.frame.DataFrame'>\n",
      "RangeIndex: 205 entries, 0 to 204\n",
      "Data columns (total 26 columns):\n",
      "car_ID              205 non-null int64\n",
      "symboling           205 non-null int64\n",
      "CarName             205 non-null object\n",
      "fueltype            205 non-null object\n",
      "aspiration          205 non-null object\n",
      "doornumber          205 non-null object\n",
      "carbody             205 non-null object\n",
      "drivewheel          205 non-null object\n",
      "enginelocation      205 non-null object\n",
      "wheelbase           205 non-null float64\n",
      "carlength           205 non-null float64\n",
      "carwidth            205 non-null float64\n",
      "carheight           205 non-null float64\n",
      "curbweight          205 non-null int64\n",
      "enginetype          205 non-null object\n",
      "cylindernumber      205 non-null object\n",
      "enginesize          205 non-null int64\n",
      "fuelsystem          205 non-null object\n",
      "boreratio           205 non-null float64\n",
      "stroke              205 non-null float64\n",
      "compressionratio    205 non-null float64\n",
      "horsepower          205 non-null int64\n",
      "peakrpm             205 non-null int64\n",
      "citympg             205 non-null int64\n",
      "highwaympg          205 non-null int64\n",
      "price               205 non-null float64\n",
      "dtypes: float64(8), int64(8), object(10)\n",
      "memory usage: 41.7+ KB\n"
     ]
    }
   ],
   "source": [
    "car_info.info()\n",
    "#checking for datacolumns\n",
    "# there are no null values"
   ]
  },
  {
   "cell_type": "code",
   "execution_count": 783,
   "metadata": {},
   "outputs": [],
   "source": [
    "# Extracting Car_company_name from car name\n",
    "car_info['car_company'] = car_info.CarName.apply(lambda x : x.split('-')[0])\n",
    "car_info['car_company'] = car_info.car_company.apply(lambda x : x.split(' ')[0])"
   ]
  },
  {
   "cell_type": "markdown",
   "metadata": {},
   "source": [
    "### Visualizing price with other numerical values using scatter plot"
   ]
  },
  {
   "cell_type": "code",
   "execution_count": 784,
   "metadata": {},
   "outputs": [
    {
     "data": {
      "text/plain": [
       "<seaborn.axisgrid.PairGrid at 0x17b8ca4c2b0>"
      ]
     },
     "execution_count": 784,
     "metadata": {},
     "output_type": "execute_result"
    },
    {
     "data": {
      "image/png": "[encoded data removed]",
      "text/plain": [
       "<Figure size 900x180 with 5 Axes>"
      ]
     },
     "metadata": {
      "needs_background": "light"
     },
     "output_type": "display_data"
    }
   ],
   "source": [
    "sns.pairplot(car_info, x_vars=[\"wheelbase\", \"carlength\", \"carwidth\",\"carheight\",\"curbweight\"], y_vars=[\"price\"])\n",
    "# sns.pairplot(car_info) x_vars=[\"sepal_width\", \"sepal_length\"],\n",
    "#plt.show()"
   ]
  },
  {
   "cell_type": "code",
   "execution_count": 785,
   "metadata": {},
   "outputs": [
    {
     "data": {
      "image/png": "[encoded data removed]",
      "text/plain": [
       "<Figure size 900x180 with 5 Axes>"
      ]
     },
     "metadata": {
      "needs_background": "light"
     },
     "output_type": "display_data"
    }
   ],
   "source": [
    "sns.pairplot(car_info, x_vars=[\"enginesize\",\"boreratio\",\"stroke\",\"compressionratio\",\"horsepower\"], y_vars=[\"price\"])\n",
    "plt.show()"
   ]
  },
  {
   "cell_type": "code",
   "execution_count": 786,
   "metadata": {},
   "outputs": [
    {
     "data": {
      "image/png": "[encoded data removed]",
      "text/plain": [
       "<Figure size 540x180 with 3 Axes>"
      ]
     },
     "metadata": {
      "needs_background": "light"
     },
     "output_type": "display_data"
    }
   ],
   "source": [
    "sns.pairplot(car_info, x_vars=[\"peakrpm\",\"citympg\",\"highwaympg\"], y_vars=[\"price\"])\n",
    "plt.show()"
   ]
  },
  {
   "cell_type": "markdown",
   "metadata": {},
   "source": [
    "### from the above graph we can see that there could be co relation between price and any of the attrib\n",
    "### horsepower, enginesize, carlenght,carwidth, curbweight"
   ]
  },
  {
   "cell_type": "code",
   "execution_count": 787,
   "metadata": {},
   "outputs": [
    {
     "data": {
      "text/plain": [
       "array(['alfa', 'audi', 'bmw', 'chevrolet', 'dodge', 'honda', 'isuzu',\n",
       "       'jaguar', 'maxda', 'mazda', 'buick', 'mercury', 'mitsubishi',\n",
       "       'Nissan', 'nissan', 'peugeot', 'plymouth', 'porsche', 'porcshce',\n",
       "       'renault', 'saab', 'subaru', 'toyota', 'toyouta', 'vokswagen',\n",
       "       'volkswagen', 'vw', 'volvo'], dtype=object)"
      ]
     },
     "execution_count": 787,
     "metadata": {},
     "output_type": "execute_result"
    }
   ],
   "source": [
    "car_info.car_company.unique()  # fetching out unique car company to remove redundency"
   ]
  },
  {
   "cell_type": "code",
   "execution_count": 788,
   "metadata": {},
   "outputs": [],
   "source": [
    "#    Removing out the redundant name\n",
    "def correct_name(x):\n",
    "    return x.map({'maxda':'mazda','Nissan':'nissan','porcshce':'porsche',\n",
    "                      'toyouta':'toyota','vokswagen':'volkswagen','vw':'volkswagen',\n",
    "                     'maxda':'mazda','Nissan':'nissan','porcshce':'porsche',\n",
    "                      'toyouta':'toyota','vokswagen':'volkswagen','vw':'volkswagen',\n",
    "                     'alfa':'alfa','audi':'audi','bmw':'bmw',\n",
    "                      'chevrolet':'chevrolet','dodge':'dodge','honda':'honda',\n",
    "                     'isuzu':'isuzu','jaguar':'jaguar','mazda':'mazda',\n",
    "                      'buick':'buick','mercury':'mercury','mitsubishi':'mitsubishi',\n",
    "                     'nissan':'nissan','peugeot':'peugeot','plymouth':'plymouth',\n",
    "                      'porsche':'porsche','renault':'renault','saab':'saab',\n",
    "                     'subaru':'subaru','toyota':'toyota','volkswagen':'volkswagen',\n",
    "                      'volvo':'volvo'})\n",
    "\n",
    "varlist =  ['car_company']\n",
    "car_info[varlist] = car_info[varlist].apply(correct_name)                                            "
   ]
  },
  {
   "cell_type": "code",
   "execution_count": 789,
   "metadata": {},
   "outputs": [
    {
     "data": {
      "text/plain": [
       "array(['alfa', 'audi', 'bmw', 'chevrolet', 'dodge', 'honda', 'isuzu',\n",
       "       'jaguar', 'mazda', 'buick', 'mercury', 'mitsubishi', 'nissan',\n",
       "       'peugeot', 'plymouth', 'porsche', 'renault', 'saab', 'subaru',\n",
       "       'toyota', 'volkswagen', 'volvo'], dtype=object)"
      ]
     },
     "execution_count": 789,
     "metadata": {},
     "output_type": "execute_result"
    }
   ],
   "source": [
    "car_info.car_company.unique() # now the number of unique value chnages, to check if the redundant values has been removed or not"
   ]
  },
  {
   "cell_type": "code",
   "execution_count": 790,
   "metadata": {},
   "outputs": [
    {
     "data": {
      "image/png": "[encoded data removed]",
      "text/plain": [
       "<Figure size 864x576 with 1 Axes>"
      ]
     },
     "metadata": {
      "needs_background": "light"
     },
     "output_type": "display_data"
    }
   ],
   "source": [
    "# Plotting Box plot with company name and their prices\n",
    "plt.figure(figsize = (12, 8))\n",
    "sns.boxplot(y = 'car_company', x = 'price', data = car_info)\n",
    "plt.show()"
   ]
  },
  {
   "cell_type": "markdown",
   "metadata": {},
   "source": [
    "### We can see from the above plot that Buick and jaguar are on higher price range"
   ]
  },
  {
   "cell_type": "code",
   "execution_count": 791,
   "metadata": {},
   "outputs": [],
   "source": [
    "# Change the column with binary entries from the field value to 0 and 1\n",
    "varlist =  ['fueltype', 'aspiration', 'doornumber', 'enginelocation']\n",
    "car_info[varlist] = car_info[varlist].apply(lambda x: x.map({'gas':1,'diesel':0,'std':1,'turbo':0,'two':1,'four':0,'front':1,'rear':0}))"
   ]
  },
  {
   "cell_type": "markdown",
   "metadata": {},
   "source": [
    "### Dummies variable and table"
   ]
  },
  {
   "cell_type": "code",
   "execution_count": 792,
   "metadata": {},
   "outputs": [
    {
     "data": {
      "text/html": [
       "<div>\n",
       "<style scoped>\n",
       "    .dataframe tbody tr th:only-of-type {\n",
       "        vertical-align: middle;\n",
       "    }\n",
       "\n",
       "    .dataframe tbody tr th {\n",
       "        vertical-align: top;\n",
       "    }\n",
       "\n",
       "    .dataframe thead th {\n",
       "        text-align: right;\n",
       "    }\n",
       "</style>\n",
       "<table border=\"1\" class=\"dataframe\">\n",
       "  <thead>\n",
       "    <tr style=\"text-align: right;\">\n",
       "      <th></th>\n",
       "      <th>convertible</th>\n",
       "      <th>hardtop</th>\n",
       "      <th>hatchback</th>\n",
       "      <th>sedan</th>\n",
       "      <th>wagon</th>\n",
       "    </tr>\n",
       "  </thead>\n",
       "  <tbody>\n",
       "    <tr>\n",
       "      <th>0</th>\n",
       "      <td>1</td>\n",
       "      <td>0</td>\n",
       "      <td>0</td>\n",
       "      <td>0</td>\n",
       "      <td>0</td>\n",
       "    </tr>\n",
       "    <tr>\n",
       "      <th>1</th>\n",
       "      <td>1</td>\n",
       "      <td>0</td>\n",
       "      <td>0</td>\n",
       "      <td>0</td>\n",
       "      <td>0</td>\n",
       "    </tr>\n",
       "    <tr>\n",
       "      <th>2</th>\n",
       "      <td>0</td>\n",
       "      <td>0</td>\n",
       "      <td>1</td>\n",
       "      <td>0</td>\n",
       "      <td>0</td>\n",
       "    </tr>\n",
       "    <tr>\n",
       "      <th>3</th>\n",
       "      <td>0</td>\n",
       "      <td>0</td>\n",
       "      <td>0</td>\n",
       "      <td>1</td>\n",
       "      <td>0</td>\n",
       "    </tr>\n",
       "    <tr>\n",
       "      <th>4</th>\n",
       "      <td>0</td>\n",
       "      <td>0</td>\n",
       "      <td>0</td>\n",
       "      <td>1</td>\n",
       "      <td>0</td>\n",
       "    </tr>\n",
       "  </tbody>\n",
       "</table>\n",
       "</div>"
      ],
      "text/plain": [
       "   convertible  hardtop  hatchback  sedan  wagon\n",
       "0            1        0          0      0      0\n",
       "1            1        0          0      0      0\n",
       "2            0        0          1      0      0\n",
       "3            0        0          0      1      0\n",
       "4            0        0          0      1      0"
      ]
     },
     "execution_count": 792,
     "metadata": {},
     "output_type": "execute_result"
    }
   ],
   "source": [
    "status1 = pd.get_dummies(car_info['carbody'])\n",
    "status1.head()"
   ]
  },
  {
   "cell_type": "code",
   "execution_count": 793,
   "metadata": {},
   "outputs": [
    {
     "data": {
      "text/html": [
       "<div>\n",
       "<style scoped>\n",
       "    .dataframe tbody tr th:only-of-type {\n",
       "        vertical-align: middle;\n",
       "    }\n",
       "\n",
       "    .dataframe tbody tr th {\n",
       "        vertical-align: top;\n",
       "    }\n",
       "\n",
       "    .dataframe thead th {\n",
       "        text-align: right;\n",
       "    }\n",
       "</style>\n",
       "<table border=\"1\" class=\"dataframe\">\n",
       "  <thead>\n",
       "    <tr style=\"text-align: right;\">\n",
       "      <th></th>\n",
       "      <th>4wd</th>\n",
       "      <th>fwd</th>\n",
       "      <th>rwd</th>\n",
       "    </tr>\n",
       "  </thead>\n",
       "  <tbody>\n",
       "    <tr>\n",
       "      <th>0</th>\n",
       "      <td>0</td>\n",
       "      <td>0</td>\n",
       "      <td>1</td>\n",
       "    </tr>\n",
       "    <tr>\n",
       "      <th>1</th>\n",
       "      <td>0</td>\n",
       "      <td>0</td>\n",
       "      <td>1</td>\n",
       "    </tr>\n",
       "    <tr>\n",
       "      <th>2</th>\n",
       "      <td>0</td>\n",
       "      <td>0</td>\n",
       "      <td>1</td>\n",
       "    </tr>\n",
       "    <tr>\n",
       "      <th>3</th>\n",
       "      <td>0</td>\n",
       "      <td>1</td>\n",
       "      <td>0</td>\n",
       "    </tr>\n",
       "    <tr>\n",
       "      <th>4</th>\n",
       "      <td>1</td>\n",
       "      <td>0</td>\n",
       "      <td>0</td>\n",
       "    </tr>\n",
       "  </tbody>\n",
       "</table>\n",
       "</div>"
      ],
      "text/plain": [
       "   4wd  fwd  rwd\n",
       "0    0    0    1\n",
       "1    0    0    1\n",
       "2    0    0    1\n",
       "3    0    1    0\n",
       "4    1    0    0"
      ]
     },
     "execution_count": 793,
     "metadata": {},
     "output_type": "execute_result"
    }
   ],
   "source": [
    "status2 = pd.get_dummies(car_info['drivewheel'])\n",
    "status2.head()"
   ]
  },
  {
   "cell_type": "code",
   "execution_count": 794,
   "metadata": {},
   "outputs": [
    {
     "data": {
      "text/html": [
       "<div>\n",
       "<style scoped>\n",
       "    .dataframe tbody tr th:only-of-type {\n",
       "        vertical-align: middle;\n",
       "    }\n",
       "\n",
       "    .dataframe tbody tr th {\n",
       "        vertical-align: top;\n",
       "    }\n",
       "\n",
       "    .dataframe thead th {\n",
       "        text-align: right;\n",
       "    }\n",
       "</style>\n",
       "<table border=\"1\" class=\"dataframe\">\n",
       "  <thead>\n",
       "    <tr style=\"text-align: right;\">\n",
       "      <th></th>\n",
       "      <th>dohc</th>\n",
       "      <th>dohcv</th>\n",
       "      <th>l</th>\n",
       "      <th>ohc</th>\n",
       "      <th>ohcf</th>\n",
       "      <th>ohcv</th>\n",
       "      <th>rotor</th>\n",
       "    </tr>\n",
       "  </thead>\n",
       "  <tbody>\n",
       "    <tr>\n",
       "      <th>0</th>\n",
       "      <td>1</td>\n",
       "      <td>0</td>\n",
       "      <td>0</td>\n",
       "      <td>0</td>\n",
       "      <td>0</td>\n",
       "      <td>0</td>\n",
       "      <td>0</td>\n",
       "    </tr>\n",
       "    <tr>\n",
       "      <th>1</th>\n",
       "      <td>1</td>\n",
       "      <td>0</td>\n",
       "      <td>0</td>\n",
       "      <td>0</td>\n",
       "      <td>0</td>\n",
       "      <td>0</td>\n",
       "      <td>0</td>\n",
       "    </tr>\n",
       "    <tr>\n",
       "      <th>2</th>\n",
       "      <td>0</td>\n",
       "      <td>0</td>\n",
       "      <td>0</td>\n",
       "      <td>0</td>\n",
       "      <td>0</td>\n",
       "      <td>1</td>\n",
       "      <td>0</td>\n",
       "    </tr>\n",
       "    <tr>\n",
       "      <th>3</th>\n",
       "      <td>0</td>\n",
       "      <td>0</td>\n",
       "      <td>0</td>\n",
       "      <td>1</td>\n",
       "      <td>0</td>\n",
       "      <td>0</td>\n",
       "      <td>0</td>\n",
       "    </tr>\n",
       "    <tr>\n",
       "      <th>4</th>\n",
       "      <td>0</td>\n",
       "      <td>0</td>\n",
       "      <td>0</td>\n",
       "      <td>1</td>\n",
       "      <td>0</td>\n",
       "      <td>0</td>\n",
       "      <td>0</td>\n",
       "    </tr>\n",
       "  </tbody>\n",
       "</table>\n",
       "</div>"
      ],
      "text/plain": [
       "   dohc  dohcv  l  ohc  ohcf  ohcv  rotor\n",
       "0     1      0  0    0     0     0      0\n",
       "1     1      0  0    0     0     0      0\n",
       "2     0      0  0    0     0     1      0\n",
       "3     0      0  0    1     0     0      0\n",
       "4     0      0  0    1     0     0      0"
      ]
     },
     "execution_count": 794,
     "metadata": {},
     "output_type": "execute_result"
    }
   ],
   "source": [
    "status3 = pd.get_dummies(car_info['enginetype'])\n",
    "status3.head()"
   ]
  },
  {
   "cell_type": "code",
   "execution_count": 795,
   "metadata": {},
   "outputs": [
    {
     "data": {
      "text/html": [
       "<div>\n",
       "<style scoped>\n",
       "    .dataframe tbody tr th:only-of-type {\n",
       "        vertical-align: middle;\n",
       "    }\n",
       "\n",
       "    .dataframe tbody tr th {\n",
       "        vertical-align: top;\n",
       "    }\n",
       "\n",
       "    .dataframe thead th {\n",
       "        text-align: right;\n",
       "    }\n",
       "</style>\n",
       "<table border=\"1\" class=\"dataframe\">\n",
       "  <thead>\n",
       "    <tr style=\"text-align: right;\">\n",
       "      <th></th>\n",
       "      <th>eight</th>\n",
       "      <th>five</th>\n",
       "      <th>four</th>\n",
       "      <th>six</th>\n",
       "      <th>three</th>\n",
       "      <th>twelve</th>\n",
       "      <th>two</th>\n",
       "    </tr>\n",
       "  </thead>\n",
       "  <tbody>\n",
       "    <tr>\n",
       "      <th>0</th>\n",
       "      <td>0</td>\n",
       "      <td>0</td>\n",
       "      <td>1</td>\n",
       "      <td>0</td>\n",
       "      <td>0</td>\n",
       "      <td>0</td>\n",
       "      <td>0</td>\n",
       "    </tr>\n",
       "    <tr>\n",
       "      <th>1</th>\n",
       "      <td>0</td>\n",
       "      <td>0</td>\n",
       "      <td>1</td>\n",
       "      <td>0</td>\n",
       "      <td>0</td>\n",
       "      <td>0</td>\n",
       "      <td>0</td>\n",
       "    </tr>\n",
       "    <tr>\n",
       "      <th>2</th>\n",
       "      <td>0</td>\n",
       "      <td>0</td>\n",
       "      <td>0</td>\n",
       "      <td>1</td>\n",
       "      <td>0</td>\n",
       "      <td>0</td>\n",
       "      <td>0</td>\n",
       "    </tr>\n",
       "    <tr>\n",
       "      <th>3</th>\n",
       "      <td>0</td>\n",
       "      <td>0</td>\n",
       "      <td>1</td>\n",
       "      <td>0</td>\n",
       "      <td>0</td>\n",
       "      <td>0</td>\n",
       "      <td>0</td>\n",
       "    </tr>\n",
       "    <tr>\n",
       "      <th>4</th>\n",
       "      <td>0</td>\n",
       "      <td>1</td>\n",
       "      <td>0</td>\n",
       "      <td>0</td>\n",
       "      <td>0</td>\n",
       "      <td>0</td>\n",
       "      <td>0</td>\n",
       "    </tr>\n",
       "  </tbody>\n",
       "</table>\n",
       "</div>"
      ],
      "text/plain": [
       "   eight  five  four  six  three  twelve  two\n",
       "0      0     0     1    0      0       0    0\n",
       "1      0     0     1    0      0       0    0\n",
       "2      0     0     0    1      0       0    0\n",
       "3      0     0     1    0      0       0    0\n",
       "4      0     1     0    0      0       0    0"
      ]
     },
     "execution_count": 795,
     "metadata": {},
     "output_type": "execute_result"
    }
   ],
   "source": [
    "status4 = pd.get_dummies(car_info['cylindernumber'])\n",
    "status4.head()"
   ]
  },
  {
   "cell_type": "code",
   "execution_count": 796,
   "metadata": {},
   "outputs": [
    {
     "data": {
      "text/html": [
       "<div>\n",
       "<style scoped>\n",
       "    .dataframe tbody tr th:only-of-type {\n",
       "        vertical-align: middle;\n",
       "    }\n",
       "\n",
       "    .dataframe tbody tr th {\n",
       "        vertical-align: top;\n",
       "    }\n",
       "\n",
       "    .dataframe thead th {\n",
       "        text-align: right;\n",
       "    }\n",
       "</style>\n",
       "<table border=\"1\" class=\"dataframe\">\n",
       "  <thead>\n",
       "    <tr style=\"text-align: right;\">\n",
       "      <th></th>\n",
       "      <th>1bbl</th>\n",
       "      <th>2bbl</th>\n",
       "      <th>4bbl</th>\n",
       "      <th>idi</th>\n",
       "      <th>mfi</th>\n",
       "      <th>mpfi</th>\n",
       "      <th>spdi</th>\n",
       "      <th>spfi</th>\n",
       "    </tr>\n",
       "  </thead>\n",
       "  <tbody>\n",
       "    <tr>\n",
       "      <th>0</th>\n",
       "      <td>0</td>\n",
       "      <td>0</td>\n",
       "      <td>0</td>\n",
       "      <td>0</td>\n",
       "      <td>0</td>\n",
       "      <td>1</td>\n",
       "      <td>0</td>\n",
       "      <td>0</td>\n",
       "    </tr>\n",
       "    <tr>\n",
       "      <th>1</th>\n",
       "      <td>0</td>\n",
       "      <td>0</td>\n",
       "      <td>0</td>\n",
       "      <td>0</td>\n",
       "      <td>0</td>\n",
       "      <td>1</td>\n",
       "      <td>0</td>\n",
       "      <td>0</td>\n",
       "    </tr>\n",
       "    <tr>\n",
       "      <th>2</th>\n",
       "      <td>0</td>\n",
       "      <td>0</td>\n",
       "      <td>0</td>\n",
       "      <td>0</td>\n",
       "      <td>0</td>\n",
       "      <td>1</td>\n",
       "      <td>0</td>\n",
       "      <td>0</td>\n",
       "    </tr>\n",
       "    <tr>\n",
       "      <th>3</th>\n",
       "      <td>0</td>\n",
       "      <td>0</td>\n",
       "      <td>0</td>\n",
       "      <td>0</td>\n",
       "      <td>0</td>\n",
       "      <td>1</td>\n",
       "      <td>0</td>\n",
       "      <td>0</td>\n",
       "    </tr>\n",
       "    <tr>\n",
       "      <th>4</th>\n",
       "      <td>0</td>\n",
       "      <td>0</td>\n",
       "      <td>0</td>\n",
       "      <td>0</td>\n",
       "      <td>0</td>\n",
       "      <td>1</td>\n",
       "      <td>0</td>\n",
       "      <td>0</td>\n",
       "    </tr>\n",
       "  </tbody>\n",
       "</table>\n",
       "</div>"
      ],
      "text/plain": [
       "   1bbl  2bbl  4bbl  idi  mfi  mpfi  spdi  spfi\n",
       "0     0     0     0    0    0     1     0     0\n",
       "1     0     0     0    0    0     1     0     0\n",
       "2     0     0     0    0    0     1     0     0\n",
       "3     0     0     0    0    0     1     0     0\n",
       "4     0     0     0    0    0     1     0     0"
      ]
     },
     "execution_count": 796,
     "metadata": {},
     "output_type": "execute_result"
    }
   ],
   "source": [
    "status5 = pd.get_dummies(car_info['fuelsystem'])\n",
    "status5.head()"
   ]
  },
  {
   "cell_type": "code",
   "execution_count": 797,
   "metadata": {},
   "outputs": [
    {
     "data": {
      "text/html": [
       "<div>\n",
       "<style scoped>\n",
       "    .dataframe tbody tr th:only-of-type {\n",
       "        vertical-align: middle;\n",
       "    }\n",
       "\n",
       "    .dataframe tbody tr th {\n",
       "        vertical-align: top;\n",
       "    }\n",
       "\n",
       "    .dataframe thead th {\n",
       "        text-align: right;\n",
       "    }\n",
       "</style>\n",
       "<table border=\"1\" class=\"dataframe\">\n",
       "  <thead>\n",
       "    <tr style=\"text-align: right;\">\n",
       "      <th></th>\n",
       "      <th>alfa</th>\n",
       "      <th>audi</th>\n",
       "      <th>bmw</th>\n",
       "      <th>buick</th>\n",
       "      <th>chevrolet</th>\n",
       "      <th>dodge</th>\n",
       "      <th>honda</th>\n",
       "      <th>isuzu</th>\n",
       "      <th>jaguar</th>\n",
       "      <th>mazda</th>\n",
       "      <th>...</th>\n",
       "      <th>nissan</th>\n",
       "      <th>peugeot</th>\n",
       "      <th>plymouth</th>\n",
       "      <th>porsche</th>\n",
       "      <th>renault</th>\n",
       "      <th>saab</th>\n",
       "      <th>subaru</th>\n",
       "      <th>toyota</th>\n",
       "      <th>volkswagen</th>\n",
       "      <th>volvo</th>\n",
       "    </tr>\n",
       "  </thead>\n",
       "  <tbody>\n",
       "    <tr>\n",
       "      <th>0</th>\n",
       "      <td>1</td>\n",
       "      <td>0</td>\n",
       "      <td>0</td>\n",
       "      <td>0</td>\n",
       "      <td>0</td>\n",
       "      <td>0</td>\n",
       "      <td>0</td>\n",
       "      <td>0</td>\n",
       "      <td>0</td>\n",
       "      <td>0</td>\n",
       "      <td>...</td>\n",
       "      <td>0</td>\n",
       "      <td>0</td>\n",
       "      <td>0</td>\n",
       "      <td>0</td>\n",
       "      <td>0</td>\n",
       "      <td>0</td>\n",
       "      <td>0</td>\n",
       "      <td>0</td>\n",
       "      <td>0</td>\n",
       "      <td>0</td>\n",
       "    </tr>\n",
       "    <tr>\n",
       "      <th>1</th>\n",
       "      <td>1</td>\n",
       "      <td>0</td>\n",
       "      <td>0</td>\n",
       "      <td>0</td>\n",
       "      <td>0</td>\n",
       "      <td>0</td>\n",
       "      <td>0</td>\n",
       "      <td>0</td>\n",
       "      <td>0</td>\n",
       "      <td>0</td>\n",
       "      <td>...</td>\n",
       "      <td>0</td>\n",
       "      <td>0</td>\n",
       "      <td>0</td>\n",
       "      <td>0</td>\n",
       "      <td>0</td>\n",
       "      <td>0</td>\n",
       "      <td>0</td>\n",
       "      <td>0</td>\n",
       "      <td>0</td>\n",
       "      <td>0</td>\n",
       "    </tr>\n",
       "    <tr>\n",
       "      <th>2</th>\n",
       "      <td>1</td>\n",
       "      <td>0</td>\n",
       "      <td>0</td>\n",
       "      <td>0</td>\n",
       "      <td>0</td>\n",
       "      <td>0</td>\n",
       "      <td>0</td>\n",
       "      <td>0</td>\n",
       "      <td>0</td>\n",
       "      <td>0</td>\n",
       "      <td>...</td>\n",
       "      <td>0</td>\n",
       "      <td>0</td>\n",
       "      <td>0</td>\n",
       "      <td>0</td>\n",
       "      <td>0</td>\n",
       "      <td>0</td>\n",
       "      <td>0</td>\n",
       "      <td>0</td>\n",
       "      <td>0</td>\n",
       "      <td>0</td>\n",
       "    </tr>\n",
       "    <tr>\n",
       "      <th>3</th>\n",
       "      <td>0</td>\n",
       "      <td>1</td>\n",
       "      <td>0</td>\n",
       "      <td>0</td>\n",
       "      <td>0</td>\n",
       "      <td>0</td>\n",
       "      <td>0</td>\n",
       "      <td>0</td>\n",
       "      <td>0</td>\n",
       "      <td>0</td>\n",
       "      <td>...</td>\n",
       "      <td>0</td>\n",
       "      <td>0</td>\n",
       "      <td>0</td>\n",
       "      <td>0</td>\n",
       "      <td>0</td>\n",
       "      <td>0</td>\n",
       "      <td>0</td>\n",
       "      <td>0</td>\n",
       "      <td>0</td>\n",
       "      <td>0</td>\n",
       "    </tr>\n",
       "    <tr>\n",
       "      <th>4</th>\n",
       "      <td>0</td>\n",
       "      <td>1</td>\n",
       "      <td>0</td>\n",
       "      <td>0</td>\n",
       "      <td>0</td>\n",
       "      <td>0</td>\n",
       "      <td>0</td>\n",
       "      <td>0</td>\n",
       "      <td>0</td>\n",
       "      <td>0</td>\n",
       "      <td>...</td>\n",
       "      <td>0</td>\n",
       "      <td>0</td>\n",
       "      <td>0</td>\n",
       "      <td>0</td>\n",
       "      <td>0</td>\n",
       "      <td>0</td>\n",
       "      <td>0</td>\n",
       "      <td>0</td>\n",
       "      <td>0</td>\n",
       "      <td>0</td>\n",
       "    </tr>\n",
       "  </tbody>\n",
       "</table>\n",
       "<p>5 rows × 22 columns</p>\n",
       "</div>"
      ],
      "text/plain": [
       "   alfa  audi  bmw  buick  chevrolet  dodge  honda  isuzu  jaguar  mazda  ...  \\\n",
       "0     1     0    0      0          0      0      0      0       0      0  ...   \n",
       "1     1     0    0      0          0      0      0      0       0      0  ...   \n",
       "2     1     0    0      0          0      0      0      0       0      0  ...   \n",
       "3     0     1    0      0          0      0      0      0       0      0  ...   \n",
       "4     0     1    0      0          0      0      0      0       0      0  ...   \n",
       "\n",
       "   nissan  peugeot  plymouth  porsche  renault  saab  subaru  toyota  \\\n",
       "0       0        0         0        0        0     0       0       0   \n",
       "1       0        0         0        0        0     0       0       0   \n",
       "2       0        0         0        0        0     0       0       0   \n",
       "3       0        0         0        0        0     0       0       0   \n",
       "4       0        0         0        0        0     0       0       0   \n",
       "\n",
       "   volkswagen  volvo  \n",
       "0           0      0  \n",
       "1           0      0  \n",
       "2           0      0  \n",
       "3           0      0  \n",
       "4           0      0  \n",
       "\n",
       "[5 rows x 22 columns]"
      ]
     },
     "execution_count": 797,
     "metadata": {},
     "output_type": "execute_result"
    }
   ],
   "source": [
    "status6 = pd.get_dummies(car_info['car_company'])\n",
    "status6.head()"
   ]
  },
  {
   "cell_type": "markdown",
   "metadata": {},
   "source": [
    "### In the above each dummy table we can remove 1 extra variable, but here i chooses not drop\n",
    "### Below is code to add dummy variable to dataframe"
   ]
  },
  {
   "cell_type": "code",
   "execution_count": 798,
   "metadata": {},
   "outputs": [],
   "source": [
    "car_info = pd.concat([car_info, status1], axis = 1)\n",
    "car_info = pd.concat([car_info, status2], axis = 1)\n",
    "car_info = pd.concat([car_info, status3], axis = 1)\n",
    "car_info = pd.concat([car_info, status4], axis = 1)\n",
    "car_info = pd.concat([car_info, status5], axis = 1)\n",
    "car_info = pd.concat([car_info, status6], axis = 1)"
   ]
  },
  {
   "cell_type": "code",
   "execution_count": 799,
   "metadata": {},
   "outputs": [],
   "source": [
    "car_info.drop(['carbody','drivewheel','enginetype','cylindernumber','fuelsystem','car_company','CarName'], axis = 1, inplace = True)\n",
    "# droping off the extra column\n",
    "# We have extracted the car_company from carname and later that too converted into dummy variable for anlysis"
   ]
  },
  {
   "cell_type": "code",
   "execution_count": 800,
   "metadata": {},
   "outputs": [],
   "source": [
    "car_info.drop(['car_ID'], axis = 1, inplace = True)\n",
    "# We also droped the car_ID column as there could not any analysis on this(its just a serial number)"
   ]
  },
  {
   "cell_type": "code",
   "execution_count": 801,
   "metadata": {},
   "outputs": [],
   "source": [
    "# in the above dataframe description of car_info we can check that datatype of numeric was not numeric \n",
    "# therefore we convert it into numeric\n",
    "car_info[['fueltype', 'aspiration','doornumber','enginelocation']] = car_info[['fueltype', 'aspiration','doornumber','enginelocation']].apply(pd.to_numeric) "
   ]
  },
  {
   "cell_type": "code",
   "execution_count": 802,
   "metadata": {},
   "outputs": [
    {
     "name": "stdout",
     "output_type": "stream",
     "text": [
      "<class 'pandas.core.frame.DataFrame'>\n",
      "RangeIndex: 205 entries, 0 to 204\n",
      "Data columns (total 71 columns):\n",
      "symboling           205 non-null int64\n",
      "fueltype            205 non-null int64\n",
      "aspiration          205 non-null int64\n",
      "doornumber          205 non-null int64\n",
      "enginelocation      205 non-null int64\n",
      "wheelbase           205 non-null float64\n",
      "carlength           205 non-null float64\n",
      "carwidth            205 non-null float64\n",
      "carheight           205 non-null float64\n",
      "curbweight          205 non-null int64\n",
      "enginesize          205 non-null int64\n",
      "boreratio           205 non-null float64\n",
      "stroke              205 non-null float64\n",
      "compressionratio    205 non-null float64\n",
      "horsepower          205 non-null int64\n",
      "peakrpm             205 non-null int64\n",
      "citympg             205 non-null int64\n",
      "highwaympg          205 non-null int64\n",
      "price               205 non-null float64\n",
      "convertible         205 non-null uint8\n",
      "hardtop             205 non-null uint8\n",
      "hatchback           205 non-null uint8\n",
      "sedan               205 non-null uint8\n",
      "wagon               205 non-null uint8\n",
      "4wd                 205 non-null uint8\n",
      "fwd                 205 non-null uint8\n",
      "rwd                 205 non-null uint8\n",
      "dohc                205 non-null uint8\n",
      "dohcv               205 non-null uint8\n",
      "l                   205 non-null uint8\n",
      "ohc                 205 non-null uint8\n",
      "ohcf                205 non-null uint8\n",
      "ohcv                205 non-null uint8\n",
      "rotor               205 non-null uint8\n",
      "eight               205 non-null uint8\n",
      "five                205 non-null uint8\n",
      "four                205 non-null uint8\n",
      "six                 205 non-null uint8\n",
      "three               205 non-null uint8\n",
      "twelve              205 non-null uint8\n",
      "two                 205 non-null uint8\n",
      "1bbl                205 non-null uint8\n",
      "2bbl                205 non-null uint8\n",
      "4bbl                205 non-null uint8\n",
      "idi                 205 non-null uint8\n",
      "mfi                 205 non-null uint8\n",
      "mpfi                205 non-null uint8\n",
      "spdi                205 non-null uint8\n",
      "spfi                205 non-null uint8\n",
      "alfa                205 non-null uint8\n",
      "audi                205 non-null uint8\n",
      "bmw                 205 non-null uint8\n",
      "buick               205 non-null uint8\n",
      "chevrolet           205 non-null uint8\n",
      "dodge               205 non-null uint8\n",
      "honda               205 non-null uint8\n",
      "isuzu               205 non-null uint8\n",
      "jaguar              205 non-null uint8\n",
      "mazda               205 non-null uint8\n",
      "mercury             205 non-null uint8\n",
      "mitsubishi          205 non-null uint8\n",
      "nissan              205 non-null uint8\n",
      "peugeot             205 non-null uint8\n",
      "plymouth            205 non-null uint8\n",
      "porsche             205 non-null uint8\n",
      "renault             205 non-null uint8\n",
      "saab                205 non-null uint8\n",
      "subaru              205 non-null uint8\n",
      "toyota              205 non-null uint8\n",
      "volkswagen          205 non-null uint8\n",
      "volvo               205 non-null uint8\n",
      "dtypes: float64(8), int64(11), uint8(52)\n",
      "memory usage: 40.9 KB\n"
     ]
    }
   ],
   "source": [
    "car_info.info()\n",
    "# checking if all the columns datatype are in their required form or not"
   ]
  },
  {
   "cell_type": "markdown",
   "metadata": {},
   "source": [
    "## Model Building"
   ]
  },
  {
   "cell_type": "code",
   "execution_count": 803,
   "metadata": {},
   "outputs": [],
   "source": [
    "from sklearn.model_selection import train_test_split\n",
    "#library to perform train test on model"
   ]
  },
  {
   "cell_type": "code",
   "execution_count": 804,
   "metadata": {},
   "outputs": [],
   "source": [
    "np.random.seed(0)\n",
    "# Data spliting into train and test\n",
    "df_train, df_test = train_test_split(car_info, train_size = 0.7, test_size = 0.3, random_state = 100)\n",
    "# dividing the dataset into 70% and 30%"
   ]
  },
  {
   "cell_type": "markdown",
   "metadata": {},
   "source": [
    "### Scaling"
   ]
  },
  {
   "cell_type": "code",
   "execution_count": 805,
   "metadata": {},
   "outputs": [],
   "source": [
    "from sklearn.preprocessing import MinMaxScaler\n",
    "scaler = MinMaxScaler()  # We are using minmax scaler"
   ]
  },
  {
   "cell_type": "code",
   "execution_count": 806,
   "metadata": {},
   "outputs": [
    {
     "data": {
      "text/html": [
       "<div>\n",
       "<style scoped>\n",
       "    .dataframe tbody tr th:only-of-type {\n",
       "        vertical-align: middle;\n",
       "    }\n",
       "\n",
       "    .dataframe tbody tr th {\n",
       "        vertical-align: top;\n",
       "    }\n",
       "\n",
       "    .dataframe thead th {\n",
       "        text-align: right;\n",
       "    }\n",
       "</style>\n",
       "<table border=\"1\" class=\"dataframe\">\n",
       "  <thead>\n",
       "    <tr style=\"text-align: right;\">\n",
       "      <th></th>\n",
       "      <th>symboling</th>\n",
       "      <th>fueltype</th>\n",
       "      <th>aspiration</th>\n",
       "      <th>doornumber</th>\n",
       "      <th>enginelocation</th>\n",
       "      <th>wheelbase</th>\n",
       "      <th>carlength</th>\n",
       "      <th>carwidth</th>\n",
       "      <th>carheight</th>\n",
       "      <th>curbweight</th>\n",
       "      <th>...</th>\n",
       "      <th>nissan</th>\n",
       "      <th>peugeot</th>\n",
       "      <th>plymouth</th>\n",
       "      <th>porsche</th>\n",
       "      <th>renault</th>\n",
       "      <th>saab</th>\n",
       "      <th>subaru</th>\n",
       "      <th>toyota</th>\n",
       "      <th>volkswagen</th>\n",
       "      <th>volvo</th>\n",
       "    </tr>\n",
       "  </thead>\n",
       "  <tbody>\n",
       "    <tr>\n",
       "      <th>122</th>\n",
       "      <td>1</td>\n",
       "      <td>1</td>\n",
       "      <td>1</td>\n",
       "      <td>0</td>\n",
       "      <td>1</td>\n",
       "      <td>0.244828</td>\n",
       "      <td>0.426016</td>\n",
       "      <td>0.291667</td>\n",
       "      <td>0.265487</td>\n",
       "      <td>0.272692</td>\n",
       "      <td>...</td>\n",
       "      <td>0</td>\n",
       "      <td>0</td>\n",
       "      <td>1</td>\n",
       "      <td>0</td>\n",
       "      <td>0</td>\n",
       "      <td>0</td>\n",
       "      <td>0</td>\n",
       "      <td>0</td>\n",
       "      <td>0</td>\n",
       "      <td>0</td>\n",
       "    </tr>\n",
       "    <tr>\n",
       "      <th>125</th>\n",
       "      <td>3</td>\n",
       "      <td>1</td>\n",
       "      <td>1</td>\n",
       "      <td>1</td>\n",
       "      <td>1</td>\n",
       "      <td>0.272414</td>\n",
       "      <td>0.452033</td>\n",
       "      <td>0.666667</td>\n",
       "      <td>0.212389</td>\n",
       "      <td>0.500388</td>\n",
       "      <td>...</td>\n",
       "      <td>0</td>\n",
       "      <td>0</td>\n",
       "      <td>0</td>\n",
       "      <td>1</td>\n",
       "      <td>0</td>\n",
       "      <td>0</td>\n",
       "      <td>0</td>\n",
       "      <td>0</td>\n",
       "      <td>0</td>\n",
       "      <td>0</td>\n",
       "    </tr>\n",
       "    <tr>\n",
       "      <th>166</th>\n",
       "      <td>1</td>\n",
       "      <td>1</td>\n",
       "      <td>1</td>\n",
       "      <td>1</td>\n",
       "      <td>1</td>\n",
       "      <td>0.272414</td>\n",
       "      <td>0.448780</td>\n",
       "      <td>0.308333</td>\n",
       "      <td>0.424779</td>\n",
       "      <td>0.314973</td>\n",
       "      <td>...</td>\n",
       "      <td>0</td>\n",
       "      <td>0</td>\n",
       "      <td>0</td>\n",
       "      <td>0</td>\n",
       "      <td>0</td>\n",
       "      <td>0</td>\n",
       "      <td>0</td>\n",
       "      <td>1</td>\n",
       "      <td>0</td>\n",
       "      <td>0</td>\n",
       "    </tr>\n",
       "    <tr>\n",
       "      <th>1</th>\n",
       "      <td>3</td>\n",
       "      <td>1</td>\n",
       "      <td>1</td>\n",
       "      <td>1</td>\n",
       "      <td>1</td>\n",
       "      <td>0.068966</td>\n",
       "      <td>0.450407</td>\n",
       "      <td>0.316667</td>\n",
       "      <td>0.088496</td>\n",
       "      <td>0.411171</td>\n",
       "      <td>...</td>\n",
       "      <td>0</td>\n",
       "      <td>0</td>\n",
       "      <td>0</td>\n",
       "      <td>0</td>\n",
       "      <td>0</td>\n",
       "      <td>0</td>\n",
       "      <td>0</td>\n",
       "      <td>0</td>\n",
       "      <td>0</td>\n",
       "      <td>0</td>\n",
       "    </tr>\n",
       "    <tr>\n",
       "      <th>199</th>\n",
       "      <td>-1</td>\n",
       "      <td>1</td>\n",
       "      <td>0</td>\n",
       "      <td>0</td>\n",
       "      <td>1</td>\n",
       "      <td>0.610345</td>\n",
       "      <td>0.775610</td>\n",
       "      <td>0.575000</td>\n",
       "      <td>0.858407</td>\n",
       "      <td>0.647401</td>\n",
       "      <td>...</td>\n",
       "      <td>0</td>\n",
       "      <td>0</td>\n",
       "      <td>0</td>\n",
       "      <td>0</td>\n",
       "      <td>0</td>\n",
       "      <td>0</td>\n",
       "      <td>0</td>\n",
       "      <td>0</td>\n",
       "      <td>0</td>\n",
       "      <td>1</td>\n",
       "    </tr>\n",
       "  </tbody>\n",
       "</table>\n",
       "<p>5 rows × 71 columns</p>\n",
       "</div>"
      ],
      "text/plain": [
       "     symboling  fueltype  aspiration  doornumber  enginelocation  wheelbase  \\\n",
       "122          1         1           1           0               1   0.244828   \n",
       "125          3         1           1           1               1   0.272414   \n",
       "166          1         1           1           1               1   0.272414   \n",
       "1            3         1           1           1               1   0.068966   \n",
       "199         -1         1           0           0               1   0.610345   \n",
       "\n",
       "     carlength  carwidth  carheight  curbweight  ...  nissan  peugeot  \\\n",
       "122   0.426016  0.291667   0.265487    0.272692  ...       0        0   \n",
       "125   0.452033  0.666667   0.212389    0.500388  ...       0        0   \n",
       "166   0.448780  0.308333   0.424779    0.314973  ...       0        0   \n",
       "1     0.450407  0.316667   0.088496    0.411171  ...       0        0   \n",
       "199   0.775610  0.575000   0.858407    0.647401  ...       0        0   \n",
       "\n",
       "     plymouth  porsche  renault  saab  subaru  toyota  volkswagen  volvo  \n",
       "122         1        0        0     0       0       0           0      0  \n",
       "125         0        1        0     0       0       0           0      0  \n",
       "166         0        0        0     0       0       1           0      0  \n",
       "1           0        0        0     0       0       0           0      0  \n",
       "199         0        0        0     0       0       0           0      1  \n",
       "\n",
       "[5 rows x 71 columns]"
      ]
     },
     "execution_count": 806,
     "metadata": {},
     "output_type": "execute_result"
    }
   ],
   "source": [
    "# Rescale model for all the numeric value attribute\n",
    "num_vars = ['wheelbase', 'carlength', 'carwidth', 'carheight', 'curbweight','enginesize','boreratio','stroke','compressionratio','horsepower','peakrpm','citympg','highwaympg','price']\n",
    "\n",
    "df_train[num_vars] = scaler.fit_transform(df_train[num_vars])\n",
    "\n",
    "df_train.head()"
   ]
  },
  {
   "cell_type": "code",
   "execution_count": 807,
   "metadata": {},
   "outputs": [],
   "source": [
    "y_train = df_train.pop('price')\n",
    "X_train = df_train"
   ]
  },
  {
   "cell_type": "code",
   "execution_count": 808,
   "metadata": {},
   "outputs": [],
   "source": [
    "# Importing RFE and LinearRegression\n",
    "from sklearn.feature_selection import RFE\n",
    "from sklearn.linear_model import LinearRegression"
   ]
  },
  {
   "cell_type": "code",
   "execution_count": 809,
   "metadata": {},
   "outputs": [],
   "source": [
    "# Running RFE with the output number of the variable equal to 10\n",
    "lm = LinearRegression()\n",
    "lm.fit(X_train, y_train)\n",
    "rfe = RFE(lm, 10)             # running RFE\n",
    "rfe = rfe.fit(X_train, y_train)"
   ]
  },
  {
   "cell_type": "code",
   "execution_count": 810,
   "metadata": {},
   "outputs": [
    {
     "data": {
      "text/plain": [
       "[('symboling', False, 60),\n",
       " ('fueltype', False, 18),\n",
       " ('aspiration', False, 11),\n",
       " ('doornumber', False, 52),\n",
       " ('enginelocation', True, 1),\n",
       " ('wheelbase', False, 7),\n",
       " ('carlength', False, 37),\n",
       " ('carwidth', True, 1),\n",
       " ('carheight', False, 23),\n",
       " ('curbweight', True, 1),\n",
       " ('enginesize', True, 1),\n",
       " ('boreratio', True, 1),\n",
       " ('stroke', False, 2),\n",
       " ('compressionratio', False, 19),\n",
       " ('horsepower', False, 33),\n",
       " ('peakrpm', False, 10),\n",
       " ('citympg', False, 38),\n",
       " ('highwaympg', False, 9),\n",
       " ('convertible', False, 8),\n",
       " ('hardtop', False, 45),\n",
       " ('hatchback', False, 44),\n",
       " ('sedan', False, 47),\n",
       " ('wagon', False, 55),\n",
       " ('4wd', False, 57),\n",
       " ('fwd', False, 56),\n",
       " ('rwd', False, 46),\n",
       " ('dohc', False, 27),\n",
       " ('dohcv', False, 42),\n",
       " ('l', False, 41),\n",
       " ('ohc', False, 30),\n",
       " ('ohcf', False, 36),\n",
       " ('ohcv', False, 26),\n",
       " ('rotor', True, 1),\n",
       " ('eight', False, 4),\n",
       " ('five', False, 29),\n",
       " ('four', False, 21),\n",
       " ('six', False, 3),\n",
       " ('three', True, 1),\n",
       " ('twelve', True, 1),\n",
       " ('two', False, 5),\n",
       " ('1bbl', False, 16),\n",
       " ('2bbl', False, 14),\n",
       " ('4bbl', False, 13),\n",
       " ('idi', False, 17),\n",
       " ('mfi', False, 58),\n",
       " ('mpfi', False, 15),\n",
       " ('spdi', False, 12),\n",
       " ('spfi', False, 59),\n",
       " ('alfa', False, 53),\n",
       " ('audi', False, 40),\n",
       " ('bmw', True, 1),\n",
       " ('buick', False, 39),\n",
       " ('chevrolet', False, 34),\n",
       " ('dodge', False, 24),\n",
       " ('honda', False, 31),\n",
       " ('isuzu', False, 54),\n",
       " ('jaguar', False, 32),\n",
       " ('mazda', False, 49),\n",
       " ('mercury', False, 61),\n",
       " ('mitsubishi', False, 22),\n",
       " ('nissan', False, 48),\n",
       " ('peugeot', False, 6),\n",
       " ('plymouth', False, 25),\n",
       " ('porsche', True, 1),\n",
       " ('renault', False, 43),\n",
       " ('saab', False, 20),\n",
       " ('subaru', False, 35),\n",
       " ('toyota', False, 50),\n",
       " ('volkswagen', False, 51),\n",
       " ('volvo', False, 28)]"
      ]
     },
     "execution_count": 810,
     "metadata": {},
     "output_type": "execute_result"
    }
   ],
   "source": [
    "list(zip(X_train.columns,rfe.support_,rfe.ranking_)) # list the variable ranking wise"
   ]
  },
  {
   "cell_type": "code",
   "execution_count": 811,
   "metadata": {},
   "outputs": [
    {
     "data": {
      "text/plain": [
       "Index(['enginelocation', 'carwidth', 'curbweight', 'enginesize', 'boreratio',\n",
       "       'rotor', 'three', 'twelve', 'bmw', 'porsche'],\n",
       "      dtype='object')"
      ]
     },
     "execution_count": 811,
     "metadata": {},
     "output_type": "execute_result"
    }
   ],
   "source": [
    "col = X_train.columns[rfe.support_]\n",
    "col"
   ]
  },
  {
   "cell_type": "code",
   "execution_count": 812,
   "metadata": {},
   "outputs": [],
   "source": [
    "X_train_rfe = X_train[col]"
   ]
  },
  {
   "cell_type": "code",
   "execution_count": 813,
   "metadata": {},
   "outputs": [],
   "source": [
    "import statsmodels.api as sm  \n",
    "X_train_rfe = sm.add_constant(X_train_rfe)"
   ]
  },
  {
   "cell_type": "code",
   "execution_count": 814,
   "metadata": {},
   "outputs": [],
   "source": [
    "lm = sm.OLS(y_train,X_train_rfe).fit()  #fitting the mode"
   ]
  },
  {
   "cell_type": "code",
   "execution_count": 815,
   "metadata": {},
   "outputs": [
    {
     "name": "stdout",
     "output_type": "stream",
     "text": [
      "                            OLS Regression Results                            \n",
      "==============================================================================\n",
      "Dep. Variable:                  price   R-squared:                       0.912\n",
      "Model:                            OLS   Adj. R-squared:                  0.906\n",
      "Method:                 Least Squares   F-statistic:                     137.1\n",
      "Date:                Mon, 26 Aug 2019   Prob (F-statistic):           1.21e-64\n",
      "Time:                        23:33:46   Log-Likelihood:                 190.87\n",
      "No. Observations:                 143   AIC:                            -359.7\n",
      "Df Residuals:                     132   BIC:                            -327.1\n",
      "Df Model:                          10                                         \n",
      "Covariance Type:            nonrobust                                         \n",
      "==================================================================================\n",
      "                     coef    std err          t      P>|t|      [0.025      0.975]\n",
      "----------------------------------------------------------------------------------\n",
      "const              0.1704      0.084      2.022      0.045       0.004       0.337\n",
      "enginelocation    -0.3298      0.086     -3.844      0.000      -0.500      -0.160\n",
      "carwidth           0.3283      0.067      4.910      0.000       0.196       0.461\n",
      "curbweight         0.2989      0.080      3.729      0.000       0.140       0.457\n",
      "enginesize         0.5732      0.097      5.926      0.000       0.382       0.764\n",
      "boreratio         -0.1088      0.037     -2.976      0.003      -0.181      -0.036\n",
      "rotor              0.1542      0.037      4.123      0.000       0.080       0.228\n",
      "three              0.1802      0.068      2.638      0.009       0.045       0.315\n",
      "twelve            -0.0536      0.081     -0.659      0.511      -0.214       0.107\n",
      "bmw                0.2453      0.029      8.327      0.000       0.187       0.304\n",
      "porsche            0.1565      0.052      3.000      0.003       0.053       0.260\n",
      "==============================================================================\n",
      "Omnibus:                       10.995   Durbin-Watson:                   1.961\n",
      "Prob(Omnibus):                  0.004   Jarque-Bera (JB):               15.683\n",
      "Skew:                           0.423   Prob(JB):                     0.000393\n",
      "Kurtosis:                       4.385   Cond. No.                         38.7\n",
      "==============================================================================\n",
      "\n",
      "Warnings:\n",
      "[1] Standard Errors assume that the covariance matrix of the errors is correctly specified.\n"
     ]
    }
   ],
   "source": [
    "print(lm.summary())"
   ]
  },
  {
   "cell_type": "code",
   "execution_count": 816,
   "metadata": {},
   "outputs": [],
   "source": [
    "# R- squred value of this model look overfitted and the p value if twelve looks high, therefore we will drop it\n",
    "X_train_new = X_train_rfe.drop([\"twelve\"], axis = 1)"
   ]
  },
  {
   "cell_type": "code",
   "execution_count": 817,
   "metadata": {},
   "outputs": [],
   "source": [
    "# Adding a constant variable \n",
    "import statsmodels.api as sm  \n",
    "X_train_lm = sm.add_constant(X_train_new)"
   ]
  },
  {
   "cell_type": "code",
   "execution_count": 818,
   "metadata": {},
   "outputs": [],
   "source": [
    "lm = sm.OLS(y_train,X_train_lm).fit()   # Running the linear model"
   ]
  },
  {
   "cell_type": "code",
   "execution_count": 819,
   "metadata": {},
   "outputs": [
    {
     "name": "stdout",
     "output_type": "stream",
     "text": [
      "                            OLS Regression Results                            \n",
      "==============================================================================\n",
      "Dep. Variable:                  price   R-squared:                       0.912\n",
      "Model:                            OLS   Adj. R-squared:                  0.906\n",
      "Method:                 Least Squares   F-statistic:                     152.9\n",
      "Date:                Mon, 26 Aug 2019   Prob (F-statistic):           1.18e-65\n",
      "Time:                        23:33:47   Log-Likelihood:                 190.63\n",
      "No. Observations:                 143   AIC:                            -361.3\n",
      "Df Residuals:                     133   BIC:                            -331.6\n",
      "Df Model:                           9                                         \n",
      "Covariance Type:            nonrobust                                         \n",
      "==================================================================================\n",
      "                     coef    std err          t      P>|t|      [0.025      0.975]\n",
      "----------------------------------------------------------------------------------\n",
      "const              0.1760      0.084      2.105      0.037       0.011       0.341\n",
      "enginelocation    -0.3348      0.085     -3.925      0.000      -0.503      -0.166\n",
      "carwidth           0.3303      0.067      4.954      0.000       0.198       0.462\n",
      "curbweight         0.3126      0.077      4.048      0.000       0.160       0.465\n",
      "enginesize         0.5389      0.081      6.625      0.000       0.378       0.700\n",
      "boreratio         -0.1075      0.036     -2.952      0.004      -0.180      -0.035\n",
      "rotor              0.1485      0.036      4.089      0.000       0.077       0.220\n",
      "three              0.1793      0.068      2.631      0.010       0.044       0.314\n",
      "bmw                0.2490      0.029      8.628      0.000       0.192       0.306\n",
      "porsche            0.1596      0.052      3.077      0.003       0.057       0.262\n",
      "==============================================================================\n",
      "Omnibus:                       12.252   Durbin-Watson:                   1.970\n",
      "Prob(Omnibus):                  0.002   Jarque-Bera (JB):               17.484\n",
      "Skew:                           0.473   Prob(JB):                     0.000160\n",
      "Kurtosis:                       4.428   Cond. No.                         37.2\n",
      "==============================================================================\n",
      "\n",
      "Warnings:\n",
      "[1] Standard Errors assume that the covariance matrix of the errors is correctly specified.\n"
     ]
    }
   ],
   "source": [
    "#Let's see the summary of our linear model\n",
    "print(lm.summary())"
   ]
  },
  {
   "cell_type": "code",
   "execution_count": 820,
   "metadata": {},
   "outputs": [
    {
     "name": "stdout",
     "output_type": "stream",
     "text": [
      "                            OLS Regression Results                            \n",
      "==============================================================================\n",
      "Dep. Variable:                  price   R-squared:                       0.907\n",
      "Model:                            OLS   Adj. R-squared:                  0.902\n",
      "Method:                 Least Squares   F-statistic:                     163.9\n",
      "Date:                Mon, 26 Aug 2019   Prob (F-statistic):           2.55e-65\n",
      "Time:                        23:33:47   Log-Likelihood:                 187.00\n",
      "No. Observations:                 143   AIC:                            -356.0\n",
      "Df Residuals:                     134   BIC:                            -329.3\n",
      "Df Model:                           8                                         \n",
      "Covariance Type:            nonrobust                                         \n",
      "==================================================================================\n",
      "                     coef    std err          t      P>|t|      [0.025      0.975]\n",
      "----------------------------------------------------------------------------------\n",
      "const              0.1755      0.085      2.053      0.042       0.006       0.344\n",
      "enginelocation    -0.3233      0.087     -3.715      0.000      -0.495      -0.151\n",
      "carwidth           0.3036      0.067      4.509      0.000       0.170       0.437\n",
      "curbweight         0.3210      0.079      4.071      0.000       0.165       0.477\n",
      "enginesize         0.5421      0.083      6.523      0.000       0.378       0.706\n",
      "boreratio         -0.1107      0.037     -2.974      0.003      -0.184      -0.037\n",
      "rotor              0.1481      0.037      3.990      0.000       0.075       0.222\n",
      "bmw                0.2480      0.029      8.413      0.000       0.190       0.306\n",
      "porsche            0.1675      0.053      3.165      0.002       0.063       0.272\n",
      "==============================================================================\n",
      "Omnibus:                       14.299   Durbin-Watson:                   1.965\n",
      "Prob(Omnibus):                  0.001   Jarque-Bera (JB):               19.369\n",
      "Skew:                           0.575   Prob(JB):                     6.22e-05\n",
      "Kurtosis:                       4.389   Cond. No.                         37.1\n",
      "==============================================================================\n",
      "\n",
      "Warnings:\n",
      "[1] Standard Errors assume that the covariance matrix of the errors is correctly specified.\n"
     ]
    }
   ],
   "source": [
    "# try by removing three column\n",
    "X_train_new = X_train_new.drop([\"three\"], axis = 1)\n",
    "X_train_lm = sm.add_constant(X_train_new)\n",
    "lm = sm.OLS(y_train,X_train_lm).fit()   \n",
    "print(lm.summary())"
   ]
  },
  {
   "cell_type": "code",
   "execution_count": 821,
   "metadata": {},
   "outputs": [
    {
     "name": "stdout",
     "output_type": "stream",
     "text": [
      "                            OLS Regression Results                            \n",
      "==============================================================================\n",
      "Dep. Variable:                  price   R-squared:                       0.901\n",
      "Model:                            OLS   Adj. R-squared:                  0.896\n",
      "Method:                 Least Squares   F-statistic:                     175.9\n",
      "Date:                Mon, 26 Aug 2019   Prob (F-statistic):           1.32e-64\n",
      "Time:                        23:33:47   Log-Likelihood:                 182.43\n",
      "No. Observations:                 143   AIC:                            -348.9\n",
      "Df Residuals:                     135   BIC:                            -325.2\n",
      "Df Model:                           7                                         \n",
      "Covariance Type:            nonrobust                                         \n",
      "==================================================================================\n",
      "                     coef    std err          t      P>|t|      [0.025      0.975]\n",
      "----------------------------------------------------------------------------------\n",
      "const              0.1545      0.088      1.764      0.080      -0.019       0.328\n",
      "enginelocation    -0.3289      0.090     -3.675      0.000      -0.506      -0.152\n",
      "carwidth           0.2967      0.069      4.286      0.000       0.160       0.434\n",
      "curbweight         0.2548      0.078      3.274      0.001       0.101       0.409\n",
      "enginesize         0.5537      0.085      6.485      0.000       0.385       0.723\n",
      "rotor              0.1439      0.038      3.772      0.000       0.068       0.219\n",
      "bmw                0.2444      0.030      8.065      0.000       0.184       0.304\n",
      "porsche            0.1248      0.052      2.382      0.019       0.021       0.228\n",
      "==============================================================================\n",
      "Omnibus:                        8.552   Durbin-Watson:                   1.959\n",
      "Prob(Omnibus):                  0.014   Jarque-Bera (JB):                9.405\n",
      "Skew:                           0.437   Prob(JB):                      0.00907\n",
      "Kurtosis:                       3.902   Cond. No.                         35.3\n",
      "==============================================================================\n",
      "\n",
      "Warnings:\n",
      "[1] Standard Errors assume that the covariance matrix of the errors is correctly specified.\n"
     ]
    }
   ],
   "source": [
    "X_train_new = X_train_new.drop([\"boreratio\"], axis = 1)\n",
    "X_train_lm = sm.add_constant(X_train_new)\n",
    "lm = sm.OLS(y_train,X_train_lm).fit()   \n",
    "print(lm.summary())"
   ]
  },
  {
   "cell_type": "code",
   "execution_count": 822,
   "metadata": {},
   "outputs": [],
   "source": [
    "# R Squared value is still high "
   ]
  },
  {
   "cell_type": "code",
   "execution_count": 823,
   "metadata": {},
   "outputs": [],
   "source": [
    "# Check for the VIF values of the feature variables. \n",
    "from statsmodels.stats.outliers_influence import variance_inflation_factor\n",
    "vif = pd.DataFrame()"
   ]
  },
  {
   "cell_type": "code",
   "execution_count": 824,
   "metadata": {},
   "outputs": [
    {
     "data": {
      "text/html": [
       "<div>\n",
       "<style scoped>\n",
       "    .dataframe tbody tr th:only-of-type {\n",
       "        vertical-align: middle;\n",
       "    }\n",
       "\n",
       "    .dataframe tbody tr th {\n",
       "        vertical-align: top;\n",
       "    }\n",
       "\n",
       "    .dataframe thead th {\n",
       "        text-align: right;\n",
       "    }\n",
       "</style>\n",
       "<table border=\"1\" class=\"dataframe\">\n",
       "  <thead>\n",
       "    <tr style=\"text-align: right;\">\n",
       "      <th></th>\n",
       "      <th>Features</th>\n",
       "      <th>VIF</th>\n",
       "    </tr>\n",
       "  </thead>\n",
       "  <tbody>\n",
       "    <tr>\n",
       "      <th>0</th>\n",
       "      <td>const</td>\n",
       "      <td>226.99</td>\n",
       "    </tr>\n",
       "    <tr>\n",
       "      <th>3</th>\n",
       "      <td>curbweight</td>\n",
       "      <td>7.94</td>\n",
       "    </tr>\n",
       "    <tr>\n",
       "      <th>4</th>\n",
       "      <td>enginesize</td>\n",
       "      <td>5.12</td>\n",
       "    </tr>\n",
       "    <tr>\n",
       "      <th>2</th>\n",
       "      <td>carwidth</td>\n",
       "      <td>4.79</td>\n",
       "    </tr>\n",
       "    <tr>\n",
       "      <th>7</th>\n",
       "      <td>porsche</td>\n",
       "      <td>1.67</td>\n",
       "    </tr>\n",
       "    <tr>\n",
       "      <th>1</th>\n",
       "      <td>enginelocation</td>\n",
       "      <td>1.65</td>\n",
       "    </tr>\n",
       "    <tr>\n",
       "      <th>5</th>\n",
       "      <td>rotor</td>\n",
       "      <td>1.17</td>\n",
       "    </tr>\n",
       "    <tr>\n",
       "      <th>6</th>\n",
       "      <td>bmw</td>\n",
       "      <td>1.09</td>\n",
       "    </tr>\n",
       "  </tbody>\n",
       "</table>\n",
       "</div>"
      ],
      "text/plain": [
       "         Features     VIF\n",
       "0           const  226.99\n",
       "3      curbweight    7.94\n",
       "4      enginesize    5.12\n",
       "2        carwidth    4.79\n",
       "7         porsche    1.67\n",
       "1  enginelocation    1.65\n",
       "5           rotor    1.17\n",
       "6             bmw    1.09"
      ]
     },
     "execution_count": 824,
     "metadata": {},
     "output_type": "execute_result"
    }
   ],
   "source": [
    "# Check for the VIF value\n",
    "\n",
    "X = X_train_new\n",
    "vif['Features'] = X.columns\n",
    "vif['VIF'] = [variance_inflation_factor(X.values, i) for i in range(X.shape[1])]\n",
    "\n",
    "vif['VIF'] = round(vif['VIF'], 2)\n",
    "vif = vif.sort_values(by = \"VIF\", ascending = False)\n",
    "vif"
   ]
  },
  {
   "cell_type": "code",
   "execution_count": 825,
   "metadata": {},
   "outputs": [],
   "source": [
    "X_train_new = X_train_new.drop(['const'], axis=1)"
   ]
  },
  {
   "cell_type": "code",
   "execution_count": 826,
   "metadata": {},
   "outputs": [
    {
     "data": {
      "text/html": [
       "<div>\n",
       "<style scoped>\n",
       "    .dataframe tbody tr th:only-of-type {\n",
       "        vertical-align: middle;\n",
       "    }\n",
       "\n",
       "    .dataframe tbody tr th {\n",
       "        vertical-align: top;\n",
       "    }\n",
       "\n",
       "    .dataframe thead th {\n",
       "        text-align: right;\n",
       "    }\n",
       "</style>\n",
       "<table border=\"1\" class=\"dataframe\">\n",
       "  <thead>\n",
       "    <tr style=\"text-align: right;\">\n",
       "      <th></th>\n",
       "      <th>Features</th>\n",
       "      <th>VIF</th>\n",
       "    </tr>\n",
       "  </thead>\n",
       "  <tbody>\n",
       "    <tr>\n",
       "      <th>2</th>\n",
       "      <td>curbweight</td>\n",
       "      <td>37.62</td>\n",
       "    </tr>\n",
       "    <tr>\n",
       "      <th>1</th>\n",
       "      <td>carwidth</td>\n",
       "      <td>34.08</td>\n",
       "    </tr>\n",
       "    <tr>\n",
       "      <th>3</th>\n",
       "      <td>enginesize</td>\n",
       "      <td>17.36</td>\n",
       "    </tr>\n",
       "    <tr>\n",
       "      <th>0</th>\n",
       "      <td>enginelocation</td>\n",
       "      <td>8.04</td>\n",
       "    </tr>\n",
       "    <tr>\n",
       "      <th>4</th>\n",
       "      <td>rotor</td>\n",
       "      <td>1.20</td>\n",
       "    </tr>\n",
       "    <tr>\n",
       "      <th>6</th>\n",
       "      <td>porsche</td>\n",
       "      <td>1.18</td>\n",
       "    </tr>\n",
       "    <tr>\n",
       "      <th>5</th>\n",
       "      <td>bmw</td>\n",
       "      <td>1.14</td>\n",
       "    </tr>\n",
       "  </tbody>\n",
       "</table>\n",
       "</div>"
      ],
      "text/plain": [
       "         Features    VIF\n",
       "2      curbweight  37.62\n",
       "1        carwidth  34.08\n",
       "3      enginesize  17.36\n",
       "0  enginelocation   8.04\n",
       "4           rotor   1.20\n",
       "6         porsche   1.18\n",
       "5             bmw   1.14"
      ]
     },
     "execution_count": 826,
     "metadata": {},
     "output_type": "execute_result"
    }
   ],
   "source": [
    "# Check for the VIF value after dropping the const \n",
    "from statsmodels.stats.outliers_influence import variance_inflation_factor\n",
    "vif = pd.DataFrame()\n",
    "X = X_train_new\n",
    "vif['Features'] = X.columns\n",
    "vif['VIF'] = [variance_inflation_factor(X.values, i) for i in range(X.shape[1])]\n",
    "vif['VIF'] = round(vif['VIF'], 2)\n",
    "vif = vif.sort_values(by = \"VIF\", ascending = False)\n",
    "vif"
   ]
  },
  {
   "cell_type": "code",
   "execution_count": 827,
   "metadata": {},
   "outputs": [],
   "source": [
    "X_train_new = X_train_new.drop(['curbweight'], axis=1)"
   ]
  },
  {
   "cell_type": "code",
   "execution_count": 828,
   "metadata": {},
   "outputs": [
    {
     "data": {
      "text/html": [
       "<div>\n",
       "<style scoped>\n",
       "    .dataframe tbody tr th:only-of-type {\n",
       "        vertical-align: middle;\n",
       "    }\n",
       "\n",
       "    .dataframe tbody tr th {\n",
       "        vertical-align: top;\n",
       "    }\n",
       "\n",
       "    .dataframe thead th {\n",
       "        text-align: right;\n",
       "    }\n",
       "</style>\n",
       "<table border=\"1\" class=\"dataframe\">\n",
       "  <thead>\n",
       "    <tr style=\"text-align: right;\">\n",
       "      <th></th>\n",
       "      <th>Features</th>\n",
       "      <th>VIF</th>\n",
       "    </tr>\n",
       "  </thead>\n",
       "  <tbody>\n",
       "    <tr>\n",
       "      <th>1</th>\n",
       "      <td>carwidth</td>\n",
       "      <td>19.69</td>\n",
       "    </tr>\n",
       "    <tr>\n",
       "      <th>2</th>\n",
       "      <td>enginesize</td>\n",
       "      <td>9.92</td>\n",
       "    </tr>\n",
       "    <tr>\n",
       "      <th>0</th>\n",
       "      <td>enginelocation</td>\n",
       "      <td>7.89</td>\n",
       "    </tr>\n",
       "    <tr>\n",
       "      <th>3</th>\n",
       "      <td>rotor</td>\n",
       "      <td>1.15</td>\n",
       "    </tr>\n",
       "    <tr>\n",
       "      <th>4</th>\n",
       "      <td>bmw</td>\n",
       "      <td>1.14</td>\n",
       "    </tr>\n",
       "    <tr>\n",
       "      <th>5</th>\n",
       "      <td>porsche</td>\n",
       "      <td>1.12</td>\n",
       "    </tr>\n",
       "  </tbody>\n",
       "</table>\n",
       "</div>"
      ],
      "text/plain": [
       "         Features    VIF\n",
       "1        carwidth  19.69\n",
       "2      enginesize   9.92\n",
       "0  enginelocation   7.89\n",
       "3           rotor   1.15\n",
       "4             bmw   1.14\n",
       "5         porsche   1.12"
      ]
     },
     "execution_count": 828,
     "metadata": {},
     "output_type": "execute_result"
    }
   ],
   "source": [
    "# Check for the VIF value after dropping the const \n",
    "from statsmodels.stats.outliers_influence import variance_inflation_factor\n",
    "vif = pd.DataFrame()\n",
    "X = X_train_new\n",
    "vif['Features'] = X.columns\n",
    "vif['VIF'] = [variance_inflation_factor(X.values, i) for i in range(X.shape[1])]\n",
    "vif['VIF'] = round(vif['VIF'], 2)\n",
    "vif = vif.sort_values(by = \"VIF\", ascending = False)\n",
    "vif"
   ]
  },
  {
   "cell_type": "code",
   "execution_count": 829,
   "metadata": {},
   "outputs": [],
   "source": [
    "X_train_new = X_train_new.drop(['carwidth'], axis=1)"
   ]
  },
  {
   "cell_type": "code",
   "execution_count": 830,
   "metadata": {},
   "outputs": [
    {
     "data": {
      "text/html": [
       "<div>\n",
       "<style scoped>\n",
       "    .dataframe tbody tr th:only-of-type {\n",
       "        vertical-align: middle;\n",
       "    }\n",
       "\n",
       "    .dataframe tbody tr th {\n",
       "        vertical-align: top;\n",
       "    }\n",
       "\n",
       "    .dataframe thead th {\n",
       "        text-align: right;\n",
       "    }\n",
       "</style>\n",
       "<table border=\"1\" class=\"dataframe\">\n",
       "  <thead>\n",
       "    <tr style=\"text-align: right;\">\n",
       "      <th></th>\n",
       "      <th>Features</th>\n",
       "      <th>VIF</th>\n",
       "    </tr>\n",
       "  </thead>\n",
       "  <tbody>\n",
       "    <tr>\n",
       "      <th>1</th>\n",
       "      <td>enginesize</td>\n",
       "      <td>3.94</td>\n",
       "    </tr>\n",
       "    <tr>\n",
       "      <th>0</th>\n",
       "      <td>enginelocation</td>\n",
       "      <td>3.68</td>\n",
       "    </tr>\n",
       "    <tr>\n",
       "      <th>3</th>\n",
       "      <td>bmw</td>\n",
       "      <td>1.11</td>\n",
       "    </tr>\n",
       "    <tr>\n",
       "      <th>4</th>\n",
       "      <td>porsche</td>\n",
       "      <td>1.10</td>\n",
       "    </tr>\n",
       "    <tr>\n",
       "      <th>2</th>\n",
       "      <td>rotor</td>\n",
       "      <td>1.08</td>\n",
       "    </tr>\n",
       "  </tbody>\n",
       "</table>\n",
       "</div>"
      ],
      "text/plain": [
       "         Features   VIF\n",
       "1      enginesize  3.94\n",
       "0  enginelocation  3.68\n",
       "3             bmw  1.11\n",
       "4         porsche  1.10\n",
       "2           rotor  1.08"
      ]
     },
     "execution_count": 830,
     "metadata": {},
     "output_type": "execute_result"
    }
   ],
   "source": [
    "from statsmodels.stats.outliers_influence import variance_inflation_factor\n",
    "vif = pd.DataFrame()\n",
    "X = X_train_new\n",
    "vif['Features'] = X.columns\n",
    "vif['VIF'] = [variance_inflation_factor(X.values, i) for i in range(X.shape[1])]\n",
    "vif['VIF'] = round(vif['VIF'], 2)\n",
    "vif = vif.sort_values(by = \"VIF\", ascending = False)\n",
    "vif"
   ]
  },
  {
   "cell_type": "code",
   "execution_count": 831,
   "metadata": {},
   "outputs": [
    {
     "name": "stdout",
     "output_type": "stream",
     "text": [
      "                            OLS Regression Results                            \n",
      "==============================================================================\n",
      "Dep. Variable:                  price   R-squared:                       0.841\n",
      "Model:                            OLS   Adj. R-squared:                  0.836\n",
      "Method:                 Least Squares   F-statistic:                     145.3\n",
      "Date:                Mon, 26 Aug 2019   Prob (F-statistic):           5.68e-53\n",
      "Time:                        23:33:49   Log-Likelihood:                 148.60\n",
      "No. Observations:                 143   AIC:                            -285.2\n",
      "Df Residuals:                     137   BIC:                            -267.4\n",
      "Df Model:                           5                                         \n",
      "Covariance Type:            nonrobust                                         \n",
      "==================================================================================\n",
      "                     coef    std err          t      P>|t|      [0.025      0.975]\n",
      "----------------------------------------------------------------------------------\n",
      "const              0.0454      0.108      0.419      0.676      -0.169       0.260\n",
      "enginelocation    -0.1274      0.107     -1.189      0.236      -0.339       0.084\n",
      "enginesize         1.1656      0.051     22.761      0.000       1.064       1.267\n",
      "rotor              0.2497      0.045      5.494      0.000       0.160       0.340\n",
      "bmw                0.2052      0.038      5.457      0.000       0.131       0.280\n",
      "porsche            0.1683      0.063      2.664      0.009       0.043       0.293\n",
      "==============================================================================\n",
      "Omnibus:                       18.346   Durbin-Watson:                   2.085\n",
      "Prob(Omnibus):                  0.000   Jarque-Bera (JB):               25.956\n",
      "Skew:                           0.701   Prob(JB):                     2.31e-06\n",
      "Kurtosis:                       4.546   Cond. No.                         30.7\n",
      "==============================================================================\n",
      "\n",
      "Warnings:\n",
      "[1] Standard Errors assume that the covariance matrix of the errors is correctly specified.\n"
     ]
    }
   ],
   "source": [
    "X_train_lm = sm.add_constant(X_train_new)\n",
    "lm = sm.OLS(y_train,X_train_lm).fit()   \n",
    "print(lm.summary())\n",
    "\n",
    "# P Fstatistic increases"
   ]
  },
  {
   "cell_type": "code",
   "execution_count": 832,
   "metadata": {},
   "outputs": [
    {
     "name": "stdout",
     "output_type": "stream",
     "text": [
      "                            OLS Regression Results                            \n",
      "==============================================================================\n",
      "Dep. Variable:                  price   R-squared:                       0.840\n",
      "Model:                            OLS   Adj. R-squared:                  0.835\n",
      "Method:                 Least Squares   F-statistic:                     180.8\n",
      "Date:                Mon, 26 Aug 2019   Prob (F-statistic):           7.97e-54\n",
      "Time:                        23:33:50   Log-Likelihood:                 147.87\n",
      "No. Observations:                 143   AIC:                            -285.7\n",
      "Df Residuals:                     138   BIC:                            -270.9\n",
      "Df Model:                           4                                         \n",
      "Covariance Type:            nonrobust                                         \n",
      "==============================================================================\n",
      "                 coef    std err          t      P>|t|      [0.025      0.975]\n",
      "------------------------------------------------------------------------------\n",
      "const         -0.0825      0.014     -5.778      0.000      -0.111      -0.054\n",
      "enginesize     1.1674      0.051     22.774      0.000       1.066       1.269\n",
      "rotor          0.2501      0.046      5.493      0.000       0.160       0.340\n",
      "bmw            0.2049      0.038      5.440      0.000       0.130       0.279\n",
      "porsche        0.2104      0.052      4.013      0.000       0.107       0.314\n",
      "==============================================================================\n",
      "Omnibus:                       17.510   Durbin-Watson:                   2.101\n",
      "Prob(Omnibus):                  0.000   Jarque-Bera (JB):               24.009\n",
      "Skew:                           0.687   Prob(JB):                     6.12e-06\n",
      "Kurtosis:                       4.463   Cond. No.                         8.42\n",
      "==============================================================================\n",
      "\n",
      "Warnings:\n",
      "[1] Standard Errors assume that the covariance matrix of the errors is correctly specified.\n"
     ]
    }
   ],
   "source": [
    "X_train_new = X_train_new.drop([\"enginelocation\"], axis = 1)\n",
    "X_train_lm = sm.add_constant(X_train_new)\n",
    "lm = sm.OLS(y_train,X_train_lm).fit()   \n",
    "print(lm.summary())\n",
    "\n",
    "# P Fstatistic increases"
   ]
  },
  {
   "cell_type": "code",
   "execution_count": 833,
   "metadata": {},
   "outputs": [],
   "source": [
    "# This model looks good but still R squred value is not as expected"
   ]
  },
  {
   "cell_type": "code",
   "execution_count": 834,
   "metadata": {},
   "outputs": [
    {
     "name": "stdout",
     "output_type": "stream",
     "text": [
      "                            OLS Regression Results                            \n",
      "==============================================================================\n",
      "Dep. Variable:                  price   R-squared:                       0.842\n",
      "Model:                            OLS   Adj. R-squared:                  0.837\n",
      "Method:                 Least Squares   F-statistic:                     183.3\n",
      "Date:                Mon, 26 Aug 2019   Prob (F-statistic):           3.61e-54\n",
      "Time:                        23:33:51   Log-Likelihood:                 148.69\n",
      "No. Observations:                 143   AIC:                            -287.4\n",
      "Df Residuals:                     138   BIC:                            -272.6\n",
      "Df Model:                           4                                         \n",
      "Covariance Type:            nonrobust                                         \n",
      "==============================================================================\n",
      "                 coef    std err          t      P>|t|      [0.025      0.975]\n",
      "------------------------------------------------------------------------------\n",
      "const         -0.1319      0.016     -8.235      0.000      -0.164      -0.100\n",
      "curbweight     0.4106      0.073      5.616      0.000       0.266       0.555\n",
      "enginesize     0.7213      0.104      6.945      0.000       0.516       0.927\n",
      "rotor          0.1718      0.048      3.611      0.000       0.078       0.266\n",
      "porsche        0.2291      0.052      4.365      0.000       0.125       0.333\n",
      "==============================================================================\n",
      "Omnibus:                       39.915   Durbin-Watson:                   1.654\n",
      "Prob(Omnibus):                  0.000   Jarque-Bera (JB):              130.455\n",
      "Skew:                           1.005   Prob(JB):                     4.70e-29\n",
      "Kurtosis:                       7.225   Cond. No.                         19.2\n",
      "==============================================================================\n",
      "\n",
      "Warnings:\n",
      "[1] Standard Errors assume that the covariance matrix of the errors is correctly specified.\n"
     ]
    }
   ],
   "source": [
    "import statsmodels.api as sm\n",
    "\n",
    "X_train_lm = sm.add_constant(X_train[['curbweight','enginesize','rotor','porsche']])\n",
    "\n",
    "lm = sm.OLS(y_train,X_train_lm).fit()   \n",
    "print(lm.summary())"
   ]
  },
  {
   "cell_type": "code",
   "execution_count": 835,
   "metadata": {},
   "outputs": [
    {
     "name": "stdout",
     "output_type": "stream",
     "text": [
      "                            OLS Regression Results                            \n",
      "==============================================================================\n",
      "Dep. Variable:                  price   R-squared:                       0.846\n",
      "Model:                            OLS   Adj. R-squared:                  0.841\n",
      "Method:                 Least Squares   F-statistic:                     150.9\n",
      "Date:                Mon, 26 Aug 2019   Prob (F-statistic):           6.66e-54\n",
      "Time:                        23:33:52   Log-Likelihood:                 150.85\n",
      "No. Observations:                 143   AIC:                            -289.7\n",
      "Df Residuals:                     137   BIC:                            -271.9\n",
      "Df Model:                           5                                         \n",
      "Covariance Type:            nonrobust                                         \n",
      "==============================================================================\n",
      "                 coef    std err          t      P>|t|      [0.025      0.975]\n",
      "------------------------------------------------------------------------------\n",
      "const         -0.1078      0.020     -5.467      0.000      -0.147      -0.069\n",
      "curbweight     0.4732      0.078      6.030      0.000       0.318       0.628\n",
      "enginesize     0.7120      0.103      6.928      0.000       0.509       0.915\n",
      "rotor          0.1757      0.047      3.732      0.000       0.083       0.269\n",
      "porsche        0.2651      0.055      4.839      0.000       0.157       0.373\n",
      "boreratio     -0.0969      0.047     -2.048      0.042      -0.190      -0.003\n",
      "==============================================================================\n",
      "Omnibus:                       45.719   Durbin-Watson:                   1.649\n",
      "Prob(Omnibus):                  0.000   Jarque-Bera (JB):              178.950\n",
      "Skew:                           1.097   Prob(JB):                     1.39e-39\n",
      "Kurtosis:                       8.022   Cond. No.                         21.5\n",
      "==============================================================================\n",
      "\n",
      "Warnings:\n",
      "[1] Standard Errors assume that the covariance matrix of the errors is correctly specified.\n"
     ]
    }
   ],
   "source": [
    "# Add a constant\n",
    "X_train_lm = sm.add_constant(X_train[['curbweight','enginesize','rotor','porsche','boreratio']])\n",
    "\n",
    "lm = sm.OLS(y_train,X_train_lm).fit()   \n",
    "print(lm.summary())"
   ]
  },
  {
   "cell_type": "code",
   "execution_count": 836,
   "metadata": {},
   "outputs": [
    {
     "name": "stdout",
     "output_type": "stream",
     "text": [
      "                            OLS Regression Results                            \n",
      "==============================================================================\n",
      "Dep. Variable:                  price   R-squared:                       0.851\n",
      "Model:                            OLS   Adj. R-squared:                  0.844\n",
      "Method:                 Least Squares   F-statistic:                     129.5\n",
      "Date:                Mon, 26 Aug 2019   Prob (F-statistic):           1.05e-53\n",
      "Time:                        23:33:52   Log-Likelihood:                 153.08\n",
      "No. Observations:                 143   AIC:                            -292.2\n",
      "Df Residuals:                     136   BIC:                            -271.4\n",
      "Df Model:                           6                                         \n",
      "Covariance Type:            nonrobust                                         \n",
      "==============================================================================\n",
      "                 coef    std err          t      P>|t|      [0.025      0.975]\n",
      "------------------------------------------------------------------------------\n",
      "const         -0.1321      0.023     -5.811      0.000      -0.177      -0.087\n",
      "curbweight     0.3458      0.099      3.496      0.001       0.150       0.541\n",
      "enginesize     0.7163      0.102      7.052      0.000       0.515       0.917\n",
      "rotor          0.1718      0.047      3.690      0.000       0.080       0.264\n",
      "porsche        0.2488      0.055      4.547      0.000       0.141       0.357\n",
      "boreratio     -0.1005      0.047     -2.148      0.033      -0.193      -0.008\n",
      "carwidth       0.1678      0.081      2.075      0.040       0.008       0.328\n",
      "==============================================================================\n",
      "Omnibus:                       53.335   Durbin-Watson:                   1.651\n",
      "Prob(Omnibus):                  0.000   Jarque-Bera (JB):              220.355\n",
      "Skew:                           1.292   Prob(JB):                     1.41e-48\n",
      "Kurtosis:                       8.505   Cond. No.                         25.1\n",
      "==============================================================================\n",
      "\n",
      "Warnings:\n",
      "[1] Standard Errors assume that the covariance matrix of the errors is correctly specified.\n"
     ]
    }
   ],
   "source": [
    "# Add a constant\n",
    "X_train_lm = sm.add_constant(X_train[['curbweight','enginesize','rotor','porsche','boreratio','carwidth']])\n",
    "\n",
    "lm = sm.OLS(y_train,X_train_lm).fit()   \n",
    "print(lm.summary())"
   ]
  },
  {
   "cell_type": "code",
   "execution_count": 837,
   "metadata": {},
   "outputs": [
    {
     "name": "stdout",
     "output_type": "stream",
     "text": [
      "                            OLS Regression Results                            \n",
      "==============================================================================\n",
      "Dep. Variable:                  price   R-squared:                       0.858\n",
      "Model:                            OLS   Adj. R-squared:                  0.851\n",
      "Method:                 Least Squares   F-statistic:                     116.9\n",
      "Date:                Mon, 26 Aug 2019   Prob (F-statistic):           4.22e-54\n",
      "Time:                        23:33:53   Log-Likelihood:                 156.68\n",
      "No. Observations:                 143   AIC:                            -297.4\n",
      "Df Residuals:                     135   BIC:                            -273.7\n",
      "Df Model:                           7                                         \n",
      "Covariance Type:            nonrobust                                         \n",
      "==================================================================================\n",
      "                     coef    std err          t      P>|t|      [0.025      0.975]\n",
      "----------------------------------------------------------------------------------\n",
      "const              0.1395      0.105      1.327      0.187      -0.068       0.347\n",
      "curbweight         0.3256      0.097      3.353      0.001       0.134       0.518\n",
      "enginesize         0.6807      0.100      6.785      0.000       0.482       0.879\n",
      "rotor              0.1641      0.046      3.593      0.000       0.074       0.254\n",
      "porsche            0.1509      0.065      2.317      0.022       0.022       0.280\n",
      "boreratio         -0.0976      0.046     -2.131      0.035      -0.188      -0.007\n",
      "carwidth           0.2263      0.082      2.754      0.007       0.064       0.389\n",
      "enginelocation    -0.2829      0.107     -2.643      0.009      -0.495      -0.071\n",
      "==============================================================================\n",
      "Omnibus:                       60.208   Durbin-Watson:                   1.579\n",
      "Prob(Omnibus):                  0.000   Jarque-Bera (JB):              298.238\n",
      "Skew:                           1.414   Prob(JB):                     1.73e-65\n",
      "Kurtosis:                       9.485   Cond. No.                         37.0\n",
      "==============================================================================\n",
      "\n",
      "Warnings:\n",
      "[1] Standard Errors assume that the covariance matrix of the errors is correctly specified.\n"
     ]
    }
   ],
   "source": [
    "# Add a constant\n",
    "X_train_lm = sm.add_constant(X_train[['curbweight','enginesize','rotor','porsche','boreratio','carwidth','enginelocation']])\n",
    "\n",
    "lm = sm.OLS(y_train,X_train_lm).fit()   \n",
    "print(lm.summary())"
   ]
  },
  {
   "cell_type": "code",
   "execution_count": 838,
   "metadata": {},
   "outputs": [],
   "source": [
    "## Residual Data analysis"
   ]
  },
  {
   "cell_type": "code",
   "execution_count": 839,
   "metadata": {},
   "outputs": [],
   "source": [
    "y_train_price = lm.predict(X_train_lm)"
   ]
  },
  {
   "cell_type": "code",
   "execution_count": 840,
   "metadata": {},
   "outputs": [
    {
     "data": {
      "text/plain": [
       "Text(0.5, 0, 'Errors')"
      ]
     },
     "execution_count": 840,
     "metadata": {},
     "output_type": "execute_result"
    },
    {
     "data": {
      "image/png": "[encoded data removed]",
      "text/plain": [
       "<Figure size 432x288 with 1 Axes>"
      ]
     },
     "metadata": {
      "needs_background": "light"
     },
     "output_type": "display_data"
    }
   ],
   "source": [
    "# Plot the histogram of the error terms\n",
    "fig = plt.figure()\n",
    "sns.distplot((y_train - y_train_price), bins = 20)\n",
    "fig.suptitle('Error Terms', fontsize = 20)                  # Plot heading \n",
    "plt.xlabel('Errors', fontsize = 18)                         # X-label"
   ]
  },
  {
   "cell_type": "markdown",
   "metadata": {},
   "source": [
    "## Make Prediction"
   ]
  },
  {
   "cell_type": "code",
   "execution_count": 842,
   "metadata": {},
   "outputs": [],
   "source": [
    "num_vars2 = ['wheelbase', 'carlength', 'carwidth', 'carheight', 'curbweight','enginesize','boreratio','stroke','compressionratio','horsepower','peakrpm','citympg','highwaympg','price']\n",
    "\n",
    "df_test[num_vars2] = scaler.transform(df_test[num_vars2])"
   ]
  },
  {
   "cell_type": "code",
   "execution_count": 846,
   "metadata": {},
   "outputs": [
    {
     "name": "stdout",
     "output_type": "stream",
     "text": [
      "<class 'pandas.core.frame.DataFrame'>\n",
      "Int64Index: 62 entries, 160 to 128\n",
      "Data columns (total 71 columns):\n",
      "symboling           62 non-null int64\n",
      "fueltype            62 non-null int64\n",
      "aspiration          62 non-null int64\n",
      "doornumber          62 non-null int64\n",
      "enginelocation      62 non-null int64\n",
      "wheelbase           62 non-null float64\n",
      "carlength           62 non-null float64\n",
      "carwidth            62 non-null float64\n",
      "carheight           62 non-null float64\n",
      "curbweight          62 non-null float64\n",
      "enginesize          62 non-null float64\n",
      "boreratio           62 non-null float64\n",
      "stroke              62 non-null float64\n",
      "compressionratio    62 non-null float64\n",
      "horsepower          62 non-null float64\n",
      "peakrpm             62 non-null float64\n",
      "citympg             62 non-null float64\n",
      "highwaympg          62 non-null float64\n",
      "price               62 non-null float64\n",
      "convertible         62 non-null uint8\n",
      "hardtop             62 non-null uint8\n",
      "hatchback           62 non-null uint8\n",
      "sedan               62 non-null uint8\n",
      "wagon               62 non-null uint8\n",
      "4wd                 62 non-null uint8\n",
      "fwd                 62 non-null uint8\n",
      "rwd                 62 non-null uint8\n",
      "dohc                62 non-null uint8\n",
      "dohcv               62 non-null uint8\n",
      "l                   62 non-null uint8\n",
      "ohc                 62 non-null uint8\n",
      "ohcf                62 non-null uint8\n",
      "ohcv                62 non-null uint8\n",
      "rotor               62 non-null uint8\n",
      "eight               62 non-null uint8\n",
      "five                62 non-null uint8\n",
      "four                62 non-null uint8\n",
      "six                 62 non-null uint8\n",
      "three               62 non-null uint8\n",
      "twelve              62 non-null uint8\n",
      "two                 62 non-null uint8\n",
      "1bbl                62 non-null uint8\n",
      "2bbl                62 non-null uint8\n",
      "4bbl                62 non-null uint8\n",
      "idi                 62 non-null uint8\n",
      "mfi                 62 non-null uint8\n",
      "mpfi                62 non-null uint8\n",
      "spdi                62 non-null uint8\n",
      "spfi                62 non-null uint8\n",
      "alfa                62 non-null uint8\n",
      "audi                62 non-null uint8\n",
      "bmw                 62 non-null uint8\n",
      "buick               62 non-null uint8\n",
      "chevrolet           62 non-null uint8\n",
      "dodge               62 non-null uint8\n",
      "honda               62 non-null uint8\n",
      "isuzu               62 non-null uint8\n",
      "jaguar              62 non-null uint8\n",
      "mazda               62 non-null uint8\n",
      "mercury             62 non-null uint8\n",
      "mitsubishi          62 non-null uint8\n",
      "nissan              62 non-null uint8\n",
      "peugeot             62 non-null uint8\n",
      "plymouth            62 non-null uint8\n",
      "porsche             62 non-null uint8\n",
      "renault             62 non-null uint8\n",
      "saab                62 non-null uint8\n",
      "subaru              62 non-null uint8\n",
      "toyota              62 non-null uint8\n",
      "volkswagen          62 non-null uint8\n",
      "volvo               62 non-null uint8\n",
      "dtypes: float64(14), int64(5), uint8(52)\n",
      "memory usage: 12.8 KB\n"
     ]
    }
   ],
   "source": [
    "df_test.info()"
   ]
  },
  {
   "cell_type": "code",
   "execution_count": 763,
   "metadata": {},
   "outputs": [
    {
     "data": {
      "text/html": [
       "<div>\n",
       "<style scoped>\n",
       "    .dataframe tbody tr th:only-of-type {\n",
       "        vertical-align: middle;\n",
       "    }\n",
       "\n",
       "    .dataframe tbody tr th {\n",
       "        vertical-align: top;\n",
       "    }\n",
       "\n",
       "    .dataframe thead th {\n",
       "        text-align: right;\n",
       "    }\n",
       "</style>\n",
       "<table border=\"1\" class=\"dataframe\">\n",
       "  <thead>\n",
       "    <tr style=\"text-align: right;\">\n",
       "      <th></th>\n",
       "      <th>symboling</th>\n",
       "      <th>fueltype</th>\n",
       "      <th>aspiration</th>\n",
       "      <th>doornumber</th>\n",
       "      <th>enginelocation</th>\n",
       "      <th>wheelbase</th>\n",
       "      <th>carlength</th>\n",
       "      <th>carwidth</th>\n",
       "      <th>carheight</th>\n",
       "      <th>curbweight</th>\n",
       "      <th>...</th>\n",
       "      <th>nissan</th>\n",
       "      <th>peugeot</th>\n",
       "      <th>plymouth</th>\n",
       "      <th>porsche</th>\n",
       "      <th>renault</th>\n",
       "      <th>saab</th>\n",
       "      <th>subaru</th>\n",
       "      <th>toyota</th>\n",
       "      <th>volkswagen</th>\n",
       "      <th>volvo</th>\n",
       "    </tr>\n",
       "  </thead>\n",
       "  <tbody>\n",
       "    <tr>\n",
       "      <th>count</th>\n",
       "      <td>62.000000</td>\n",
       "      <td>62.000000</td>\n",
       "      <td>62.000000</td>\n",
       "      <td>62.000000</td>\n",
       "      <td>62.000000</td>\n",
       "      <td>62.000000</td>\n",
       "      <td>62.000000</td>\n",
       "      <td>62.000000</td>\n",
       "      <td>62.000000</td>\n",
       "      <td>62.000000</td>\n",
       "      <td>...</td>\n",
       "      <td>62.000000</td>\n",
       "      <td>62.000000</td>\n",
       "      <td>62.000000</td>\n",
       "      <td>62.000000</td>\n",
       "      <td>62.0</td>\n",
       "      <td>62.000000</td>\n",
       "      <td>62.000000</td>\n",
       "      <td>62.000000</td>\n",
       "      <td>62.000000</td>\n",
       "      <td>62.000000</td>\n",
       "    </tr>\n",
       "    <tr>\n",
       "      <th>mean</th>\n",
       "      <td>0.919355</td>\n",
       "      <td>0.887097</td>\n",
       "      <td>0.822581</td>\n",
       "      <td>0.435484</td>\n",
       "      <td>0.967742</td>\n",
       "      <td>0.437764</td>\n",
       "      <td>0.559481</td>\n",
       "      <td>0.480376</td>\n",
       "      <td>0.559663</td>\n",
       "      <td>0.428470</td>\n",
       "      <td>...</td>\n",
       "      <td>0.064516</td>\n",
       "      <td>0.048387</td>\n",
       "      <td>0.048387</td>\n",
       "      <td>0.032258</td>\n",
       "      <td>0.0</td>\n",
       "      <td>0.048387</td>\n",
       "      <td>0.016129</td>\n",
       "      <td>0.193548</td>\n",
       "      <td>0.080645</td>\n",
       "      <td>0.080645</td>\n",
       "    </tr>\n",
       "    <tr>\n",
       "      <th>std</th>\n",
       "      <td>1.358620</td>\n",
       "      <td>0.319058</td>\n",
       "      <td>0.385142</td>\n",
       "      <td>0.499868</td>\n",
       "      <td>0.178127</td>\n",
       "      <td>0.212861</td>\n",
       "      <td>0.189947</td>\n",
       "      <td>0.165440</td>\n",
       "      <td>0.215811</td>\n",
       "      <td>0.179488</td>\n",
       "      <td>...</td>\n",
       "      <td>0.247676</td>\n",
       "      <td>0.216335</td>\n",
       "      <td>0.216335</td>\n",
       "      <td>0.178127</td>\n",
       "      <td>0.0</td>\n",
       "      <td>0.216335</td>\n",
       "      <td>0.127000</td>\n",
       "      <td>0.398304</td>\n",
       "      <td>0.274512</td>\n",
       "      <td>0.274512</td>\n",
       "    </tr>\n",
       "    <tr>\n",
       "      <th>min</th>\n",
       "      <td>-2.000000</td>\n",
       "      <td>0.000000</td>\n",
       "      <td>0.000000</td>\n",
       "      <td>0.000000</td>\n",
       "      <td>0.000000</td>\n",
       "      <td>0.000000</td>\n",
       "      <td>0.056911</td>\n",
       "      <td>0.183333</td>\n",
       "      <td>0.141593</td>\n",
       "      <td>0.128394</td>\n",
       "      <td>...</td>\n",
       "      <td>0.000000</td>\n",
       "      <td>0.000000</td>\n",
       "      <td>0.000000</td>\n",
       "      <td>0.000000</td>\n",
       "      <td>0.0</td>\n",
       "      <td>0.000000</td>\n",
       "      <td>0.000000</td>\n",
       "      <td>0.000000</td>\n",
       "      <td>0.000000</td>\n",
       "      <td>0.000000</td>\n",
       "    </tr>\n",
       "    <tr>\n",
       "      <th>25%</th>\n",
       "      <td>0.000000</td>\n",
       "      <td>1.000000</td>\n",
       "      <td>1.000000</td>\n",
       "      <td>0.000000</td>\n",
       "      <td>1.000000</td>\n",
       "      <td>0.313793</td>\n",
       "      <td>0.459350</td>\n",
       "      <td>0.358333</td>\n",
       "      <td>0.384956</td>\n",
       "      <td>0.305275</td>\n",
       "      <td>...</td>\n",
       "      <td>0.000000</td>\n",
       "      <td>0.000000</td>\n",
       "      <td>0.000000</td>\n",
       "      <td>0.000000</td>\n",
       "      <td>0.0</td>\n",
       "      <td>0.000000</td>\n",
       "      <td>0.000000</td>\n",
       "      <td>0.000000</td>\n",
       "      <td>0.000000</td>\n",
       "      <td>0.000000</td>\n",
       "    </tr>\n",
       "    <tr>\n",
       "      <th>50%</th>\n",
       "      <td>1.000000</td>\n",
       "      <td>1.000000</td>\n",
       "      <td>1.000000</td>\n",
       "      <td>0.000000</td>\n",
       "      <td>1.000000</td>\n",
       "      <td>0.387931</td>\n",
       "      <td>0.547967</td>\n",
       "      <td>0.441667</td>\n",
       "      <td>0.588496</td>\n",
       "      <td>0.406129</td>\n",
       "      <td>...</td>\n",
       "      <td>0.000000</td>\n",
       "      <td>0.000000</td>\n",
       "      <td>0.000000</td>\n",
       "      <td>0.000000</td>\n",
       "      <td>0.0</td>\n",
       "      <td>0.000000</td>\n",
       "      <td>0.000000</td>\n",
       "      <td>0.000000</td>\n",
       "      <td>0.000000</td>\n",
       "      <td>0.000000</td>\n",
       "    </tr>\n",
       "    <tr>\n",
       "      <th>75%</th>\n",
       "      <td>2.000000</td>\n",
       "      <td>1.000000</td>\n",
       "      <td>1.000000</td>\n",
       "      <td>1.000000</td>\n",
       "      <td>1.000000</td>\n",
       "      <td>0.570690</td>\n",
       "      <td>0.719919</td>\n",
       "      <td>0.516667</td>\n",
       "      <td>0.699115</td>\n",
       "      <td>0.564876</td>\n",
       "      <td>...</td>\n",
       "      <td>0.000000</td>\n",
       "      <td>0.000000</td>\n",
       "      <td>0.000000</td>\n",
       "      <td>0.000000</td>\n",
       "      <td>0.0</td>\n",
       "      <td>0.000000</td>\n",
       "      <td>0.000000</td>\n",
       "      <td>0.000000</td>\n",
       "      <td>0.000000</td>\n",
       "      <td>0.000000</td>\n",
       "    </tr>\n",
       "    <tr>\n",
       "      <th>max</th>\n",
       "      <td>3.000000</td>\n",
       "      <td>1.000000</td>\n",
       "      <td>1.000000</td>\n",
       "      <td>1.000000</td>\n",
       "      <td>1.000000</td>\n",
       "      <td>1.182759</td>\n",
       "      <td>1.089431</td>\n",
       "      <td>0.975000</td>\n",
       "      <td>1.061947</td>\n",
       "      <td>0.935609</td>\n",
       "      <td>...</td>\n",
       "      <td>1.000000</td>\n",
       "      <td>1.000000</td>\n",
       "      <td>1.000000</td>\n",
       "      <td>1.000000</td>\n",
       "      <td>0.0</td>\n",
       "      <td>1.000000</td>\n",
       "      <td>1.000000</td>\n",
       "      <td>1.000000</td>\n",
       "      <td>1.000000</td>\n",
       "      <td>1.000000</td>\n",
       "    </tr>\n",
       "  </tbody>\n",
       "</table>\n",
       "<p>8 rows × 71 columns</p>\n",
       "</div>"
      ],
      "text/plain": [
       "       symboling   fueltype  aspiration  doornumber  enginelocation  \\\n",
       "count  62.000000  62.000000   62.000000   62.000000       62.000000   \n",
       "mean    0.919355   0.887097    0.822581    0.435484        0.967742   \n",
       "std     1.358620   0.319058    0.385142    0.499868        0.178127   \n",
       "min    -2.000000   0.000000    0.000000    0.000000        0.000000   \n",
       "25%     0.000000   1.000000    1.000000    0.000000        1.000000   \n",
       "50%     1.000000   1.000000    1.000000    0.000000        1.000000   \n",
       "75%     2.000000   1.000000    1.000000    1.000000        1.000000   \n",
       "max     3.000000   1.000000    1.000000    1.000000        1.000000   \n",
       "\n",
       "       wheelbase  carlength   carwidth  carheight  curbweight  ...     nissan  \\\n",
       "count  62.000000  62.000000  62.000000  62.000000   62.000000  ...  62.000000   \n",
       "mean    0.437764   0.559481   0.480376   0.559663    0.428470  ...   0.064516   \n",
       "std     0.212861   0.189947   0.165440   0.215811    0.179488  ...   0.247676   \n",
       "min     0.000000   0.056911   0.183333   0.141593    0.128394  ...   0.000000   \n",
       "25%     0.313793   0.459350   0.358333   0.384956    0.305275  ...   0.000000   \n",
       "50%     0.387931   0.547967   0.441667   0.588496    0.406129  ...   0.000000   \n",
       "75%     0.570690   0.719919   0.516667   0.699115    0.564876  ...   0.000000   \n",
       "max     1.182759   1.089431   0.975000   1.061947    0.935609  ...   1.000000   \n",
       "\n",
       "         peugeot   plymouth    porsche  renault       saab     subaru  \\\n",
       "count  62.000000  62.000000  62.000000     62.0  62.000000  62.000000   \n",
       "mean    0.048387   0.048387   0.032258      0.0   0.048387   0.016129   \n",
       "std     0.216335   0.216335   0.178127      0.0   0.216335   0.127000   \n",
       "min     0.000000   0.000000   0.000000      0.0   0.000000   0.000000   \n",
       "25%     0.000000   0.000000   0.000000      0.0   0.000000   0.000000   \n",
       "50%     0.000000   0.000000   0.000000      0.0   0.000000   0.000000   \n",
       "75%     0.000000   0.000000   0.000000      0.0   0.000000   0.000000   \n",
       "max     1.000000   1.000000   1.000000      0.0   1.000000   1.000000   \n",
       "\n",
       "          toyota  volkswagen      volvo  \n",
       "count  62.000000   62.000000  62.000000  \n",
       "mean    0.193548    0.080645   0.080645  \n",
       "std     0.398304    0.274512   0.274512  \n",
       "min     0.000000    0.000000   0.000000  \n",
       "25%     0.000000    0.000000   0.000000  \n",
       "50%     0.000000    0.000000   0.000000  \n",
       "75%     0.000000    0.000000   0.000000  \n",
       "max     1.000000    1.000000   1.000000  \n",
       "\n",
       "[8 rows x 71 columns]"
      ]
     },
     "execution_count": 763,
     "metadata": {},
     "output_type": "execute_result"
    }
   ],
   "source": [
    "df_test.describe()"
   ]
  },
  {
   "cell_type": "code",
   "execution_count": 847,
   "metadata": {},
   "outputs": [],
   "source": [
    "y_test = df_test.pop('price')\n",
    "X_test = df_test"
   ]
  },
  {
   "cell_type": "code",
   "execution_count": 848,
   "metadata": {},
   "outputs": [
    {
     "ename": "KeyError",
     "evalue": "\"['const'] not in index\"",
     "output_type": "error",
     "traceback": [
      "\u001b[1;31m---------------------------------------------------------------------------\u001b[0m",
      "\u001b[1;31mKeyError\u001b[0m                                  Traceback (most recent call last)",
      "\u001b[1;32m<ipython-input-848-b50c6d8884ff>\u001b[0m in \u001b[0;36m<module>\u001b[1;34m\u001b[0m\n\u001b[1;32m----> 1\u001b[1;33m \u001b[0mX_test_new\u001b[0m \u001b[1;33m=\u001b[0m \u001b[0mX_test\u001b[0m\u001b[1;33m[\u001b[0m\u001b[0mX_train_lm\u001b[0m\u001b[1;33m.\u001b[0m\u001b[0mcolumns\u001b[0m\u001b[1;33m]\u001b[0m\u001b[1;33m\u001b[0m\u001b[1;33m\u001b[0m\u001b[0m\n\u001b[0m\u001b[0;32m      2\u001b[0m \u001b[0mX_test_new\u001b[0m \u001b[1;33m=\u001b[0m \u001b[0msm\u001b[0m\u001b[1;33m.\u001b[0m\u001b[0madd_constant\u001b[0m\u001b[1;33m(\u001b[0m\u001b[0mX_test_new\u001b[0m\u001b[1;33m)\u001b[0m\u001b[1;33m\u001b[0m\u001b[1;33m\u001b[0m\u001b[0m\n",
      "\u001b[1;32m~\\Anaconda3\\lib\\site-packages\\pandas\\core\\frame.py\u001b[0m in \u001b[0;36m__getitem__\u001b[1;34m(self, key)\u001b[0m\n\u001b[0;32m   2932\u001b[0m                 \u001b[0mkey\u001b[0m \u001b[1;33m=\u001b[0m \u001b[0mlist\u001b[0m\u001b[1;33m(\u001b[0m\u001b[0mkey\u001b[0m\u001b[1;33m)\u001b[0m\u001b[1;33m\u001b[0m\u001b[1;33m\u001b[0m\u001b[0m\n\u001b[0;32m   2933\u001b[0m             indexer = self.loc._convert_to_indexer(key, axis=1,\n\u001b[1;32m-> 2934\u001b[1;33m                                                    raise_missing=True)\n\u001b[0m\u001b[0;32m   2935\u001b[0m \u001b[1;33m\u001b[0m\u001b[0m\n\u001b[0;32m   2936\u001b[0m         \u001b[1;31m# take() does not accept boolean indexers\u001b[0m\u001b[1;33m\u001b[0m\u001b[1;33m\u001b[0m\u001b[1;33m\u001b[0m\u001b[0m\n",
      "\u001b[1;32m~\\Anaconda3\\lib\\site-packages\\pandas\\core\\indexing.py\u001b[0m in \u001b[0;36m_convert_to_indexer\u001b[1;34m(self, obj, axis, is_setter, raise_missing)\u001b[0m\n\u001b[0;32m   1352\u001b[0m                 kwargs = {'raise_missing': True if is_setter else\n\u001b[0;32m   1353\u001b[0m                           raise_missing}\n\u001b[1;32m-> 1354\u001b[1;33m                 \u001b[1;32mreturn\u001b[0m \u001b[0mself\u001b[0m\u001b[1;33m.\u001b[0m\u001b[0m_get_listlike_indexer\u001b[0m\u001b[1;33m(\u001b[0m\u001b[0mobj\u001b[0m\u001b[1;33m,\u001b[0m \u001b[0maxis\u001b[0m\u001b[1;33m,\u001b[0m \u001b[1;33m**\u001b[0m\u001b[0mkwargs\u001b[0m\u001b[1;33m)\u001b[0m\u001b[1;33m[\u001b[0m\u001b[1;36m1\u001b[0m\u001b[1;33m]\u001b[0m\u001b[1;33m\u001b[0m\u001b[1;33m\u001b[0m\u001b[0m\n\u001b[0m\u001b[0;32m   1355\u001b[0m         \u001b[1;32melse\u001b[0m\u001b[1;33m:\u001b[0m\u001b[1;33m\u001b[0m\u001b[1;33m\u001b[0m\u001b[0m\n\u001b[0;32m   1356\u001b[0m             \u001b[1;32mtry\u001b[0m\u001b[1;33m:\u001b[0m\u001b[1;33m\u001b[0m\u001b[1;33m\u001b[0m\u001b[0m\n",
      "\u001b[1;32m~\\Anaconda3\\lib\\site-packages\\pandas\\core\\indexing.py\u001b[0m in \u001b[0;36m_get_listlike_indexer\u001b[1;34m(self, key, axis, raise_missing)\u001b[0m\n\u001b[0;32m   1159\u001b[0m         self._validate_read_indexer(keyarr, indexer,\n\u001b[0;32m   1160\u001b[0m                                     \u001b[0mo\u001b[0m\u001b[1;33m.\u001b[0m\u001b[0m_get_axis_number\u001b[0m\u001b[1;33m(\u001b[0m\u001b[0maxis\u001b[0m\u001b[1;33m)\u001b[0m\u001b[1;33m,\u001b[0m\u001b[1;33m\u001b[0m\u001b[1;33m\u001b[0m\u001b[0m\n\u001b[1;32m-> 1161\u001b[1;33m                                     raise_missing=raise_missing)\n\u001b[0m\u001b[0;32m   1162\u001b[0m         \u001b[1;32mreturn\u001b[0m \u001b[0mkeyarr\u001b[0m\u001b[1;33m,\u001b[0m \u001b[0mindexer\u001b[0m\u001b[1;33m\u001b[0m\u001b[1;33m\u001b[0m\u001b[0m\n\u001b[0;32m   1163\u001b[0m \u001b[1;33m\u001b[0m\u001b[0m\n",
      "\u001b[1;32m~\\Anaconda3\\lib\\site-packages\\pandas\\core\\indexing.py\u001b[0m in \u001b[0;36m_validate_read_indexer\u001b[1;34m(self, key, indexer, axis, raise_missing)\u001b[0m\n\u001b[0;32m   1250\u001b[0m             \u001b[1;32mif\u001b[0m \u001b[1;32mnot\u001b[0m\u001b[1;33m(\u001b[0m\u001b[0mself\u001b[0m\u001b[1;33m.\u001b[0m\u001b[0mname\u001b[0m \u001b[1;33m==\u001b[0m \u001b[1;34m'loc'\u001b[0m \u001b[1;32mand\u001b[0m \u001b[1;32mnot\u001b[0m \u001b[0mraise_missing\u001b[0m\u001b[1;33m)\u001b[0m\u001b[1;33m:\u001b[0m\u001b[1;33m\u001b[0m\u001b[1;33m\u001b[0m\u001b[0m\n\u001b[0;32m   1251\u001b[0m                 \u001b[0mnot_found\u001b[0m \u001b[1;33m=\u001b[0m \u001b[0mlist\u001b[0m\u001b[1;33m(\u001b[0m\u001b[0mset\u001b[0m\u001b[1;33m(\u001b[0m\u001b[0mkey\u001b[0m\u001b[1;33m)\u001b[0m \u001b[1;33m-\u001b[0m \u001b[0mset\u001b[0m\u001b[1;33m(\u001b[0m\u001b[0max\u001b[0m\u001b[1;33m)\u001b[0m\u001b[1;33m)\u001b[0m\u001b[1;33m\u001b[0m\u001b[1;33m\u001b[0m\u001b[0m\n\u001b[1;32m-> 1252\u001b[1;33m                 \u001b[1;32mraise\u001b[0m \u001b[0mKeyError\u001b[0m\u001b[1;33m(\u001b[0m\u001b[1;34m\"{} not in index\"\u001b[0m\u001b[1;33m.\u001b[0m\u001b[0mformat\u001b[0m\u001b[1;33m(\u001b[0m\u001b[0mnot_found\u001b[0m\u001b[1;33m)\u001b[0m\u001b[1;33m)\u001b[0m\u001b[1;33m\u001b[0m\u001b[1;33m\u001b[0m\u001b[0m\n\u001b[0m\u001b[0;32m   1253\u001b[0m \u001b[1;33m\u001b[0m\u001b[0m\n\u001b[0;32m   1254\u001b[0m             \u001b[1;31m# we skip the warning on Categorical/Interval\u001b[0m\u001b[1;33m\u001b[0m\u001b[1;33m\u001b[0m\u001b[1;33m\u001b[0m\u001b[0m\n",
      "\u001b[1;31mKeyError\u001b[0m: \"['const'] not in index\""
     ]
    }
   ],
   "source": [
    "X_test_new = X_test[X_train_lm.columns]\n",
    "X_test_new = sm.add_constant(X_test_new)"
   ]
  },
  {
   "cell_type": "code",
   "execution_count": 765,
   "metadata": {},
   "outputs": [
    {
     "data": {
      "text/plain": [
       "LinearRegression(copy_X=True, fit_intercept=True, n_jobs=None,\n",
       "         normalize=False)"
      ]
     },
     "execution_count": 765,
     "metadata": {},
     "output_type": "execute_result"
    }
   ],
   "source": [
    "lm = LinearRegression()\n",
    "lm.fit(X_test, y_test)\n"
   ]
  },
  {
   "cell_type": "code",
   "execution_count": 770,
   "metadata": {},
   "outputs": [
    {
     "name": "stdout",
     "output_type": "stream",
     "text": [
      "                            OLS Regression Results                            \n",
      "==============================================================================\n",
      "Dep. Variable:                  price   R-squared:                       0.882\n",
      "Model:                            OLS   Adj. R-squared:                  0.871\n",
      "Method:                 Least Squares   F-statistic:                     83.62\n",
      "Date:                Mon, 26 Aug 2019   Prob (F-statistic):           1.05e-24\n",
      "Time:                        23:01:56   Log-Likelihood:                 69.044\n",
      "No. Observations:                  62   AIC:                            -126.1\n",
      "Df Residuals:                      56   BIC:                            -113.3\n",
      "Df Model:                           5                                         \n",
      "Covariance Type:            nonrobust                                         \n",
      "==================================================================================\n",
      "                     coef    std err          t      P>|t|      [0.025      0.975]\n",
      "----------------------------------------------------------------------------------\n",
      "const              0.0284      0.031      0.902      0.371      -0.035       0.091\n",
      "curbweight         0.2631      0.163      1.612      0.113      -0.064       0.590\n",
      "enginesize         0.7979      0.126      6.310      0.000       0.545       1.051\n",
      "rotor          -5.706e-17   5.43e-17     -1.050      0.298   -1.66e-16    5.18e-17\n",
      "porsche            0.2341      0.046      5.118      0.000       0.142       0.326\n",
      "boreratio         -0.0999      0.072     -1.397      0.168      -0.243       0.043\n",
      "carwidth           0.2780      0.131      2.127      0.038       0.016       0.540\n",
      "enginelocation    -0.2058      0.028     -7.344      0.000      -0.262      -0.150\n",
      "==============================================================================\n",
      "Omnibus:                        2.588   Durbin-Watson:                   1.976\n",
      "Prob(Omnibus):                  0.274   Jarque-Bera (JB):                1.799\n",
      "Skew:                           0.244   Prob(JB):                        0.407\n",
      "Kurtosis:                       3.676   Cond. No.                     7.25e+17\n",
      "==============================================================================\n",
      "\n",
      "Warnings:\n",
      "[1] Standard Errors assume that the covariance matrix of the errors is correctly specified.\n",
      "[2] The smallest eigenvalue is 3.27e-34. This might indicate that there are\n",
      "strong multicollinearity problems or that the design matrix is singular.\n"
     ]
    }
   ],
   "source": [
    "# R Square for Test Set\n",
    "X_test_lm = sm.add_constant(X_test[['curbweight','enginesize','rotor','porsche','boreratio','carwidth','enginelocation']])\n",
    "\n",
    "lm = sm.OLS(y_test,X_test_lm).fit()   \n",
    "print(lm.summary())"
   ]
  },
  {
   "cell_type": "code",
   "execution_count": 849,
   "metadata": {},
   "outputs": [
    {
     "ename": "KeyError",
     "evalue": "\"['const'] not in index\"",
     "output_type": "error",
     "traceback": [
      "\u001b[1;31m---------------------------------------------------------------------------\u001b[0m",
      "\u001b[1;31mKeyError\u001b[0m                                  Traceback (most recent call last)",
      "\u001b[1;32m<ipython-input-849-f240f47ea54d>\u001b[0m in \u001b[0;36m<module>\u001b[1;34m\u001b[0m\n\u001b[0;32m      3\u001b[0m \u001b[1;31m# Creating X_test_new dataframe by dropping variables from X_test\u001b[0m\u001b[1;33m\u001b[0m\u001b[1;33m\u001b[0m\u001b[1;33m\u001b[0m\u001b[0m\n\u001b[0;32m      4\u001b[0m \u001b[0mX_test_new\u001b[0m \u001b[1;33m=\u001b[0m \u001b[0msm\u001b[0m\u001b[1;33m.\u001b[0m\u001b[0madd_constant\u001b[0m\u001b[1;33m(\u001b[0m\u001b[0mX_test_new\u001b[0m\u001b[1;33m)\u001b[0m\u001b[1;33m\u001b[0m\u001b[1;33m\u001b[0m\u001b[0m\n\u001b[1;32m----> 5\u001b[1;33m \u001b[0mX_test_new\u001b[0m \u001b[1;33m=\u001b[0m \u001b[0mX_test\u001b[0m\u001b[1;33m[\u001b[0m\u001b[0mX_train_lm\u001b[0m\u001b[1;33m.\u001b[0m\u001b[0mcolumns\u001b[0m\u001b[1;33m]\u001b[0m\u001b[1;33m\u001b[0m\u001b[1;33m\u001b[0m\u001b[0m\n\u001b[0m\u001b[0;32m      6\u001b[0m \u001b[1;33m\u001b[0m\u001b[0m\n\u001b[0;32m      7\u001b[0m \u001b[1;31m# Adding a constant variable\u001b[0m\u001b[1;33m\u001b[0m\u001b[1;33m\u001b[0m\u001b[1;33m\u001b[0m\u001b[0m\n",
      "\u001b[1;32m~\\Anaconda3\\lib\\site-packages\\pandas\\core\\frame.py\u001b[0m in \u001b[0;36m__getitem__\u001b[1;34m(self, key)\u001b[0m\n\u001b[0;32m   2932\u001b[0m                 \u001b[0mkey\u001b[0m \u001b[1;33m=\u001b[0m \u001b[0mlist\u001b[0m\u001b[1;33m(\u001b[0m\u001b[0mkey\u001b[0m\u001b[1;33m)\u001b[0m\u001b[1;33m\u001b[0m\u001b[1;33m\u001b[0m\u001b[0m\n\u001b[0;32m   2933\u001b[0m             indexer = self.loc._convert_to_indexer(key, axis=1,\n\u001b[1;32m-> 2934\u001b[1;33m                                                    raise_missing=True)\n\u001b[0m\u001b[0;32m   2935\u001b[0m \u001b[1;33m\u001b[0m\u001b[0m\n\u001b[0;32m   2936\u001b[0m         \u001b[1;31m# take() does not accept boolean indexers\u001b[0m\u001b[1;33m\u001b[0m\u001b[1;33m\u001b[0m\u001b[1;33m\u001b[0m\u001b[0m\n",
      "\u001b[1;32m~\\Anaconda3\\lib\\site-packages\\pandas\\core\\indexing.py\u001b[0m in \u001b[0;36m_convert_to_indexer\u001b[1;34m(self, obj, axis, is_setter, raise_missing)\u001b[0m\n\u001b[0;32m   1352\u001b[0m                 kwargs = {'raise_missing': True if is_setter else\n\u001b[0;32m   1353\u001b[0m                           raise_missing}\n\u001b[1;32m-> 1354\u001b[1;33m                 \u001b[1;32mreturn\u001b[0m \u001b[0mself\u001b[0m\u001b[1;33m.\u001b[0m\u001b[0m_get_listlike_indexer\u001b[0m\u001b[1;33m(\u001b[0m\u001b[0mobj\u001b[0m\u001b[1;33m,\u001b[0m \u001b[0maxis\u001b[0m\u001b[1;33m,\u001b[0m \u001b[1;33m**\u001b[0m\u001b[0mkwargs\u001b[0m\u001b[1;33m)\u001b[0m\u001b[1;33m[\u001b[0m\u001b[1;36m1\u001b[0m\u001b[1;33m]\u001b[0m\u001b[1;33m\u001b[0m\u001b[1;33m\u001b[0m\u001b[0m\n\u001b[0m\u001b[0;32m   1355\u001b[0m         \u001b[1;32melse\u001b[0m\u001b[1;33m:\u001b[0m\u001b[1;33m\u001b[0m\u001b[1;33m\u001b[0m\u001b[0m\n\u001b[0;32m   1356\u001b[0m             \u001b[1;32mtry\u001b[0m\u001b[1;33m:\u001b[0m\u001b[1;33m\u001b[0m\u001b[1;33m\u001b[0m\u001b[0m\n",
      "\u001b[1;32m~\\Anaconda3\\lib\\site-packages\\pandas\\core\\indexing.py\u001b[0m in \u001b[0;36m_get_listlike_indexer\u001b[1;34m(self, key, axis, raise_missing)\u001b[0m\n\u001b[0;32m   1159\u001b[0m         self._validate_read_indexer(keyarr, indexer,\n\u001b[0;32m   1160\u001b[0m                                     \u001b[0mo\u001b[0m\u001b[1;33m.\u001b[0m\u001b[0m_get_axis_number\u001b[0m\u001b[1;33m(\u001b[0m\u001b[0maxis\u001b[0m\u001b[1;33m)\u001b[0m\u001b[1;33m,\u001b[0m\u001b[1;33m\u001b[0m\u001b[1;33m\u001b[0m\u001b[0m\n\u001b[1;32m-> 1161\u001b[1;33m                                     raise_missing=raise_missing)\n\u001b[0m\u001b[0;32m   1162\u001b[0m         \u001b[1;32mreturn\u001b[0m \u001b[0mkeyarr\u001b[0m\u001b[1;33m,\u001b[0m \u001b[0mindexer\u001b[0m\u001b[1;33m\u001b[0m\u001b[1;33m\u001b[0m\u001b[0m\n\u001b[0;32m   1163\u001b[0m \u001b[1;33m\u001b[0m\u001b[0m\n",
      "\u001b[1;32m~\\Anaconda3\\lib\\site-packages\\pandas\\core\\indexing.py\u001b[0m in \u001b[0;36m_validate_read_indexer\u001b[1;34m(self, key, indexer, axis, raise_missing)\u001b[0m\n\u001b[0;32m   1250\u001b[0m             \u001b[1;32mif\u001b[0m \u001b[1;32mnot\u001b[0m\u001b[1;33m(\u001b[0m\u001b[0mself\u001b[0m\u001b[1;33m.\u001b[0m\u001b[0mname\u001b[0m \u001b[1;33m==\u001b[0m \u001b[1;34m'loc'\u001b[0m \u001b[1;32mand\u001b[0m \u001b[1;32mnot\u001b[0m \u001b[0mraise_missing\u001b[0m\u001b[1;33m)\u001b[0m\u001b[1;33m:\u001b[0m\u001b[1;33m\u001b[0m\u001b[1;33m\u001b[0m\u001b[0m\n\u001b[0;32m   1251\u001b[0m                 \u001b[0mnot_found\u001b[0m \u001b[1;33m=\u001b[0m \u001b[0mlist\u001b[0m\u001b[1;33m(\u001b[0m\u001b[0mset\u001b[0m\u001b[1;33m(\u001b[0m\u001b[0mkey\u001b[0m\u001b[1;33m)\u001b[0m \u001b[1;33m-\u001b[0m \u001b[0mset\u001b[0m\u001b[1;33m(\u001b[0m\u001b[0max\u001b[0m\u001b[1;33m)\u001b[0m\u001b[1;33m)\u001b[0m\u001b[1;33m\u001b[0m\u001b[1;33m\u001b[0m\u001b[0m\n\u001b[1;32m-> 1252\u001b[1;33m                 \u001b[1;32mraise\u001b[0m \u001b[0mKeyError\u001b[0m\u001b[1;33m(\u001b[0m\u001b[1;34m\"{} not in index\"\u001b[0m\u001b[1;33m.\u001b[0m\u001b[0mformat\u001b[0m\u001b[1;33m(\u001b[0m\u001b[0mnot_found\u001b[0m\u001b[1;33m)\u001b[0m\u001b[1;33m)\u001b[0m\u001b[1;33m\u001b[0m\u001b[1;33m\u001b[0m\u001b[0m\n\u001b[0m\u001b[0;32m   1253\u001b[0m \u001b[1;33m\u001b[0m\u001b[0m\n\u001b[0;32m   1254\u001b[0m             \u001b[1;31m# we skip the warning on Categorical/Interval\u001b[0m\u001b[1;33m\u001b[0m\u001b[1;33m\u001b[0m\u001b[1;33m\u001b[0m\u001b[0m\n",
      "\u001b[1;31mKeyError\u001b[0m: \"['const'] not in index\""
     ]
    }
   ],
   "source": [
    "# Now let's use our model to make predictions.\n",
    "\n",
    "# Creating X_test_new dataframe by dropping variables from X_test\n",
    "\n",
    "X_test_new = X_test[X_train_lm.columns]\n",
    "\n",
    "# Adding a constant variable \n",
    "X_test_new = sm.add_constant(X_test_new)"
   ]
  },
  {
   "cell_type": "code",
   "execution_count": 767,
   "metadata": {},
   "outputs": [
    {
     "ename": "ValueError",
     "evalue": "shapes (62,5) and (70,) not aligned: 5 (dim 1) != 70 (dim 0)",
     "output_type": "error",
     "traceback": [
      "\u001b[1;31m---------------------------------------------------------------------------\u001b[0m",
      "\u001b[1;31mValueError\u001b[0m                                Traceback (most recent call last)",
      "\u001b[1;32m<ipython-input-767-89272a28f56f>\u001b[0m in \u001b[0;36m<module>\u001b[1;34m\u001b[0m\n\u001b[0;32m      1\u001b[0m \u001b[1;31m# Making predictions\u001b[0m\u001b[1;33m\u001b[0m\u001b[1;33m\u001b[0m\u001b[1;33m\u001b[0m\u001b[0m\n\u001b[1;32m----> 2\u001b[1;33m \u001b[0my_pred\u001b[0m \u001b[1;33m=\u001b[0m \u001b[0mlm\u001b[0m\u001b[1;33m.\u001b[0m\u001b[0mpredict\u001b[0m\u001b[1;33m(\u001b[0m\u001b[0mX_test_new\u001b[0m\u001b[1;33m)\u001b[0m\u001b[1;33m\u001b[0m\u001b[1;33m\u001b[0m\u001b[0m\n\u001b[0m",
      "\u001b[1;32m~\\Anaconda3\\lib\\site-packages\\sklearn\\linear_model\\base.py\u001b[0m in \u001b[0;36mpredict\u001b[1;34m(self, X)\u001b[0m\n\u001b[0;32m    211\u001b[0m             \u001b[0mReturns\u001b[0m \u001b[0mpredicted\u001b[0m \u001b[0mvalues\u001b[0m\u001b[1;33m.\u001b[0m\u001b[1;33m\u001b[0m\u001b[1;33m\u001b[0m\u001b[0m\n\u001b[0;32m    212\u001b[0m         \"\"\"\n\u001b[1;32m--> 213\u001b[1;33m         \u001b[1;32mreturn\u001b[0m \u001b[0mself\u001b[0m\u001b[1;33m.\u001b[0m\u001b[0m_decision_function\u001b[0m\u001b[1;33m(\u001b[0m\u001b[0mX\u001b[0m\u001b[1;33m)\u001b[0m\u001b[1;33m\u001b[0m\u001b[1;33m\u001b[0m\u001b[0m\n\u001b[0m\u001b[0;32m    214\u001b[0m \u001b[1;33m\u001b[0m\u001b[0m\n\u001b[0;32m    215\u001b[0m     \u001b[0m_preprocess_data\u001b[0m \u001b[1;33m=\u001b[0m \u001b[0mstaticmethod\u001b[0m\u001b[1;33m(\u001b[0m\u001b[0m_preprocess_data\u001b[0m\u001b[1;33m)\u001b[0m\u001b[1;33m\u001b[0m\u001b[1;33m\u001b[0m\u001b[0m\n",
      "\u001b[1;32m~\\Anaconda3\\lib\\site-packages\\sklearn\\linear_model\\base.py\u001b[0m in \u001b[0;36m_decision_function\u001b[1;34m(self, X)\u001b[0m\n\u001b[0;32m    196\u001b[0m         \u001b[0mX\u001b[0m \u001b[1;33m=\u001b[0m \u001b[0mcheck_array\u001b[0m\u001b[1;33m(\u001b[0m\u001b[0mX\u001b[0m\u001b[1;33m,\u001b[0m \u001b[0maccept_sparse\u001b[0m\u001b[1;33m=\u001b[0m\u001b[1;33m[\u001b[0m\u001b[1;34m'csr'\u001b[0m\u001b[1;33m,\u001b[0m \u001b[1;34m'csc'\u001b[0m\u001b[1;33m,\u001b[0m \u001b[1;34m'coo'\u001b[0m\u001b[1;33m]\u001b[0m\u001b[1;33m)\u001b[0m\u001b[1;33m\u001b[0m\u001b[1;33m\u001b[0m\u001b[0m\n\u001b[0;32m    197\u001b[0m         return safe_sparse_dot(X, self.coef_.T,\n\u001b[1;32m--> 198\u001b[1;33m                                dense_output=True) + self.intercept_\n\u001b[0m\u001b[0;32m    199\u001b[0m \u001b[1;33m\u001b[0m\u001b[0m\n\u001b[0;32m    200\u001b[0m     \u001b[1;32mdef\u001b[0m \u001b[0mpredict\u001b[0m\u001b[1;33m(\u001b[0m\u001b[0mself\u001b[0m\u001b[1;33m,\u001b[0m \u001b[0mX\u001b[0m\u001b[1;33m)\u001b[0m\u001b[1;33m:\u001b[0m\u001b[1;33m\u001b[0m\u001b[1;33m\u001b[0m\u001b[0m\n",
      "\u001b[1;32m~\\Anaconda3\\lib\\site-packages\\sklearn\\utils\\extmath.py\u001b[0m in \u001b[0;36msafe_sparse_dot\u001b[1;34m(a, b, dense_output)\u001b[0m\n\u001b[0;32m    171\u001b[0m         \u001b[1;32mreturn\u001b[0m \u001b[0mret\u001b[0m\u001b[1;33m\u001b[0m\u001b[1;33m\u001b[0m\u001b[0m\n\u001b[0;32m    172\u001b[0m     \u001b[1;32melse\u001b[0m\u001b[1;33m:\u001b[0m\u001b[1;33m\u001b[0m\u001b[1;33m\u001b[0m\u001b[0m\n\u001b[1;32m--> 173\u001b[1;33m         \u001b[1;32mreturn\u001b[0m \u001b[0mnp\u001b[0m\u001b[1;33m.\u001b[0m\u001b[0mdot\u001b[0m\u001b[1;33m(\u001b[0m\u001b[0ma\u001b[0m\u001b[1;33m,\u001b[0m \u001b[0mb\u001b[0m\u001b[1;33m)\u001b[0m\u001b[1;33m\u001b[0m\u001b[1;33m\u001b[0m\u001b[0m\n\u001b[0m\u001b[0;32m    174\u001b[0m \u001b[1;33m\u001b[0m\u001b[0m\n\u001b[0;32m    175\u001b[0m \u001b[1;33m\u001b[0m\u001b[0m\n",
      "\u001b[1;31mValueError\u001b[0m: shapes (62,5) and (70,) not aligned: 5 (dim 1) != 70 (dim 0)"
     ]
    }
   ],
   "source": [
    "# Making predictions\n",
    "y_pred = lm.predict(X_test_new)"
   ]
  },
  {
   "cell_type": "code",
   "execution_count": 768,
   "metadata": {},
   "outputs": [
    {
     "data": {
      "text/plain": [
       "Text(0, 0.5, 'y_pred')"
      ]
     },
     "execution_count": 768,
     "metadata": {},
     "output_type": "execute_result"
    },
    {
     "data": {
      "image/png": "[encoded data removed]",
      "text/plain": [
       "<Figure size 432x288 with 1 Axes>"
      ]
     },
     "metadata": {
      "needs_background": "light"
     },
     "output_type": "display_data"
    }
   ],
   "source": [
    "# Plotting y_test and y_pred to understand the spread.\n",
    "fig = plt.figure()\n",
    "plt.scatter(y_test,y_pred)\n",
    "fig.suptitle('y_test vs y_pred', fontsize=20)              # Plot heading \n",
    "plt.xlabel('y_test', fontsize=18)                          # X-label\n",
    "plt.ylabel('y_pred', fontsize=16)                          # Y-label"
   ]
  },
  {
   "cell_type": "code",
   "execution_count": 769,
   "metadata": {},
   "outputs": [
    {
     "data": {
      "text/plain": [
       "0.9004517106020887"
      ]
     },
     "execution_count": 769,
     "metadata": {},
     "output_type": "execute_result"
    }
   ],
   "source": [
    "from sklearn.metrics import r2_score\n",
    "r2_score(y_test, y_pred)\n"
   ]
  },
  {
   "cell_type": "code",
   "execution_count": null,
   "metadata": {},
   "outputs": [],
   "source": []
  },
  {
   "cell_type": "code",
   "execution_count": null,
   "metadata": {},
   "outputs": [],
   "source": []
  }
 ],
 "metadata": {
  "kernelspec": {
   "display_name": "Python 3",
   "language": "python",
   "name": "python3"
  },
  "language_info": {
   "codemirror_mode": {
    "name": "ipython",
    "version": 3
   },
   "file_extension": ".py",
   "mimetype": "text/x-python",
   "name": "python",
   "nbconvert_exporter": "python",
   "pygments_lexer": "ipython3",
   "version": "3.7.3"
  }
 },
 "nbformat": 4,
 "nbformat_minor": 2
}
